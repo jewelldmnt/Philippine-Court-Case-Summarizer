{
 "cells": [
  {
   "cell_type": "markdown",
   "metadata": {},
   "source": [
    "## Importing Necessary Modules"
   ]
  },
  {
   "cell_type": "code",
   "execution_count": 1,
   "metadata": {},
   "outputs": [],
   "source": [
    "from Custom_Modules.TopicSegmentation import TopicSegmentation\n",
    "from Custom_Modules.preprocessing import preprocess\n",
    "from Custom_Modules.LSA import LSA"
   ]
  },
  {
   "cell_type": "markdown",
   "metadata": {},
   "source": [
    "## Court Case Summarizer"
   ]
  },
  {
   "cell_type": "code",
   "execution_count": 2,
   "metadata": {},
   "outputs": [],
   "source": [
    "def sumarize_court_case(input_file: str) -> str:\n",
    "    \"\"\"\n",
    "    Description:\n",
    "        Processes the input text to perform topic segmentation and returns a structured summary.\n",
    "        This function reads a text file, cleans and tokenizes the content into paragraphs, \n",
    "        segments the paragraphs into facts, issues, and rulings using a fine-tuned model, \n",
    "        and applies Latent Semantic Analysis (LSA) to generate a summary of the segmented text.\n",
    "\n",
    "    Parameters:\n",
    "        input_file (str): The path to the input text file containing the raw text for segmentation.\n",
    "\n",
    "    Returns:\n",
    "        summary (str): A summary string that includes segmented facts, issues, and rulings, \n",
    "             formatted as specified in the output structure.\n",
    "    \"\"\"\n",
    "    \n",
    "    # Read input text\n",
    "    with open(input_file, 'r', encoding='utf-8') as file:\n",
    "        raw_text = file.read()\n",
    "\n",
    "    # Preprocessing\n",
    "    preprocessor = preprocess(is_training=False)\n",
    "    cleaned_text = preprocessor.remove_unnecesary_char(raw_text)\n",
    "    segmented_paragraph = preprocessor.segment_paragraph(cleaned_text)\n",
    "\n",
    "    # Topic Segmentation\n",
    "    segmentation = TopicSegmentation(model_path='my_awesome_model/70')\n",
    "    predicted_labels = segmentation.sequence_classification(segmented_paragraph)\n",
    "    segmentation_output = segmentation.label_mapping(predicted_labels)\n",
    "\n",
    "    # Write the segmented paragraphs into an output file (if needed)\n",
    "    segmentation.write_output_segments(predicted_labels, output_file=\"output_segments.txt\")\n",
    "\n",
    "    # Latent Semantic Analysis\n",
    "    lsa = LSA(segmentation_output)\n",
    "    summary = lsa.create_summary()\n",
    "    \n",
    "    return summary"
   ]
  },
  {
   "cell_type": "markdown",
   "metadata": {},
   "source": [
    "### Example Usage:"
   ]
  },
  {
   "cell_type": "code",
   "execution_count": 3,
   "metadata": {},
   "outputs": [
    {
     "name": "stderr",
     "output_type": "stream",
     "text": [
      "Some weights of BartForSequenceClassification were not initialized from the model checkpoint at my_awesome_model/70 and are newly initialized because the shapes did not match:\n",
      "- model.decoder.embed_positions.weight: found shape torch.Size([1026, 768]) in the checkpoint and torch.Size([130, 768]) in the model instantiated\n",
      "- model.encoder.embed_positions.weight: found shape torch.Size([1026, 768]) in the checkpoint and torch.Size([130, 768]) in the model instantiated\n",
      "You should probably TRAIN this model on a down-stream task to be able to use it for predictions and inference.\n"
     ]
    },
    {
     "name": "stdout",
     "output_type": "stream",
     "text": [
      "Output segments written to 'output_segments.txt'.\n",
      "FACTS:\n",
      "This case is about the proof required to establish the domicile of a reinstated Filipino citizen who seeks election as governor of a province.The Facts and the Case The sole issue presented in this case is whether or not the COMELEC acted with grave abuse of discretion amounting to lack or excess of jurisdiction in ruling that Jalosjos failed to present ample proof of a bona fide intention to establish his domicile in Ipil Zamboanga Sibugay.The Court s Ruling\n",
      "\n",
      "ISSUES:\n",
      "The Local Government Code requires a candidate seeking the position of provincial governor to be a resident of the province for at least one year before the election. For purposes of the election laws the requirement of residence is synonymous with domicile meaning that a person must not only intend to reside in a particular place but must also have personal presence in such place coupled with conduct indicative of such intention.There is no hard and fast rule to determine a candidate s compliance with residency requirement since the question of residence is a question of intention.\n",
      "\n",
      "RULINGS:\n",
      "Petitioner Rommel Jalosjos was born in Quezon City on October 26 1973. He migrated to Australia in 1981 when he was eight years old and there acquired Australian citizenship.\n"
     ]
    }
   ],
   "source": [
    "if __name__ == \"__main__\":\n",
    "    result = sumarize_court_case('input.txt')\n",
    "    print(result)"
   ]
  }
 ],
 "metadata": {
  "kernelspec": {
   "display_name": "Python 3",
   "language": "python",
   "name": "python3"
  },
  "language_info": {
   "codemirror_mode": {
    "name": "ipython",
    "version": 3
   },
   "file_extension": ".py",
   "mimetype": "text/x-python",
   "name": "python",
   "nbconvert_exporter": "python",
   "pygments_lexer": "ipython3",
   "version": "3.11.6"
  }
 },
 "nbformat": 4,
 "nbformat_minor": 4
}
