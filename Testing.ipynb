{
 "cells": [
  {
   "cell_type": "markdown",
   "metadata": {},
   "source": [
    "## Importing Necessary Modules"
   ]
  },
  {
   "cell_type": "code",
   "execution_count": null,
   "metadata": {},
   "outputs": [],
   "source": [
    "from Custom_Modules.InputConversion import InputConversion\n",
    "from Custom_Modules.TestingParagraphSegmentation import ParagraphSegmentation\n",
    "from Custom_Modules.TestingPreprocessing import Preprocessing"
   ]
  },
  {
   "cell_type": "markdown",
   "metadata": {},
   "source": [
    "## Reading Input Text\n"
   ]
  },
  {
   "cell_type": "code",
   "execution_count": 12,
   "metadata": {},
   "outputs": [],
   "source": [
    "with open('input.txt', 'r', encoding='utf-8') as file:\n",
    "    raw_text = file.read()"
   ]
  },
  {
   "cell_type": "markdown",
   "metadata": {},
   "source": [
    "## Text Preprocessing"
   ]
  },
  {
   "cell_type": "code",
   "execution_count": 13,
   "metadata": {},
   "outputs": [],
   "source": [
    "# Create an instance of the TextPreprocessor\n",
    "preprocessor = Preprocessing()\n",
    "\n",
    "# Clean the text\n",
    "cleaned_text = preprocessor.clean_text(raw_text)\n",
    "\n",
    "# Tokenize the text into paragraphs\n",
    "tokenized_paragraphs = preprocessor.tokenize_by_paragraph(cleaned_text)"
   ]
  },
  {
   "cell_type": "markdown",
   "metadata": {},
   "source": [
    "## Paragraph Segmentation"
   ]
  },
  {
   "cell_type": "code",
   "execution_count": 14,
   "metadata": {},
   "outputs": [
    {
     "name": "stderr",
     "output_type": "stream",
     "text": [
      "Some weights of BartForSequenceClassification were not initialized from the model checkpoint at my_awesome_model/checkpoint-886 and are newly initialized because the shapes did not match:\n",
      "- model.decoder.embed_positions.weight: found shape torch.Size([1026, 768]) in the checkpoint and torch.Size([130, 768]) in the model instantiated\n",
      "- model.encoder.embed_positions.weight: found shape torch.Size([1026, 768]) in the checkpoint and torch.Size([130, 768]) in the model instantiated\n",
      "You should probably TRAIN this model on a down-stream task to be able to use it for predictions and inference.\n"
     ]
    },
    {
     "name": "stdout",
     "output_type": "stream",
     "text": [
      "Output segments written to 'output_segments.txt'.\n"
     ]
    }
   ],
   "source": [
    "# Initialize the ParagraphSegmentation class with the path to your fine-tuned model\n",
    "segmentation = ParagraphSegmentation(model_path='my_awesome_model/checkpoint-886')\n",
    "\n",
    "# Split paragraphs into dictionary form\n",
    "split_paragraphs = segmentation.split_paragraph(tokenized_paragraphs)\n",
    "\n",
    "# Perform sequence classification on the split paragraphs\n",
    "predicted_labels = segmentation.sequence_classification(split_paragraphs)\n",
    "\n",
    "# Write the segmented paragraphs into an output file\n",
    "segmentation.write_output_segments(predicted_labels, output_file=\"output_segments.txt\")"
   ]
  }
 ],
 "metadata": {
  "kernelspec": {
   "display_name": "Python 3",
   "language": "python",
   "name": "python3"
  },
  "language_info": {
   "codemirror_mode": {
    "name": "ipython",
    "version": 3
   },
   "file_extension": ".py",
   "mimetype": "text/x-python",
   "name": "python",
   "nbconvert_exporter": "python",
   "pygments_lexer": "ipython3",
   "version": "3.11.6"
  }
 },
 "nbformat": 4,
 "nbformat_minor": 2
}
