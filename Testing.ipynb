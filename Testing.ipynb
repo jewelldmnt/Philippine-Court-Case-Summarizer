{
 "cells": [
  {
   "cell_type": "markdown",
   "metadata": {},
   "source": [
    "## Importing Necessary Modules"
   ]
  },
  {
   "cell_type": "code",
   "execution_count": 1,
   "metadata": {},
   "outputs": [],
   "source": [
    "from Custom_Modules.InputConversion import InputConversion\n",
    "from Custom_Modules.TestingParagraphSegmentation import ParagraphSegmentation\n",
    "from Custom_Modules.TestingPreprocessing import Preprocessing\n",
    "from Custom_Modules.LSA import LSA"
   ]
  },
  {
   "cell_type": "markdown",
   "metadata": {},
   "source": [
    "## Reading Input Text\n"
   ]
  },
  {
   "cell_type": "code",
   "execution_count": 2,
   "metadata": {},
   "outputs": [],
   "source": [
    "with open('input.txt', 'r', encoding='utf-8') as file:\n",
    "    raw_text = file.read()"
   ]
  },
  {
   "cell_type": "markdown",
   "metadata": {},
   "source": [
    "## Text Preprocessing"
   ]
  },
  {
   "cell_type": "code",
   "execution_count": 3,
   "metadata": {},
   "outputs": [],
   "source": [
    "# Create an instance of the TextPreprocessor\n",
    "preprocessor = Preprocessing()\n",
    "\n",
    "# Clean the text\n",
    "cleaned_text = preprocessor.clean_text(raw_text)\n",
    "\n",
    "# Tokenize the text into paragraphs\n",
    "tokenized_paragraphs = preprocessor.tokenize_by_paragraph(cleaned_text)"
   ]
  },
  {
   "cell_type": "markdown",
   "metadata": {},
   "source": [
    "## Paragraph Segmentation"
   ]
  },
  {
   "cell_type": "code",
   "execution_count": 4,
   "metadata": {},
   "outputs": [
    {
     "name": "stderr",
     "output_type": "stream",
     "text": [
      "Some weights of BartForSequenceClassification were not initialized from the model checkpoint at my_awesome_model/checkpoint-886 and are newly initialized because the shapes did not match:\n",
      "- model.decoder.embed_positions.weight: found shape torch.Size([1026, 768]) in the checkpoint and torch.Size([130, 768]) in the model instantiated\n",
      "- model.encoder.embed_positions.weight: found shape torch.Size([1026, 768]) in the checkpoint and torch.Size([130, 768]) in the model instantiated\n",
      "You should probably TRAIN this model on a down-stream task to be able to use it for predictions and inference.\n"
     ]
    },
    {
     "name": "stdout",
     "output_type": "stream",
     "text": [
      "Output segments written to 'output_segments.txt'.\n"
     ]
    }
   ],
   "source": [
    "# Initialize the ParagraphSegmentation class with the path to your fine-tuned model\n",
    "segmentation = ParagraphSegmentation(model_path='my_awesome_model/checkpoint-886')\n",
    "\n",
    "# Split paragraphs into dictionary form\n",
    "split_paragraphs = segmentation.split_paragraph(tokenized_paragraphs)\n",
    "\n",
    "# Perform sequence classification on the split paragraphs\n",
    "predicted_labels = segmentation.sequence_classification(split_paragraphs)\n",
    "\n",
    "# Write the segmented paragraphs into an output file\n",
    "segmentation.write_output_segments(predicted_labels, output_file=\"output_segments.txt\")"
   ]
  },
  {
   "cell_type": "markdown",
   "metadata": {},
   "source": [
    "## Latent Semantic Analysis"
   ]
  },
  {
   "cell_type": "code",
   "execution_count": 5,
   "metadata": {},
   "outputs": [
    {
     "name": "stdout",
     "output_type": "stream",
     "text": [
      "Total summary sentences: 30\n",
      "facts_count: 15\n",
      "issues_count: 1\n",
      "ruling_count: 13\n",
      "remaining count: 1\n"
     ]
    }
   ],
   "source": [
    "lsa = LSA(predicted_labels)\n",
    "summary = lsa.create_summary()"
   ]
  },
  {
   "cell_type": "code",
   "execution_count": 6,
   "metadata": {},
   "outputs": [
    {
     "name": "stdout",
     "output_type": "stream",
     "text": [
      "Summary:\n",
      "FACTS:\n",
      "After hearing the Second Division of the COMELEC ruled that while Jalosjos had regained Philippine citizenship by complying with the requirements of R.A. 9225 he failed to prove the residency requirement for a gubernatorial candidate. The sole issue presented in this case is whether or not the COMELEC acted with grave abuse of discretion amounting to lack or excess of jurisdiction in ruling that Jalosjos failed to present ample proof of a bona fide intention to establish his domicile in Ipil Zamboanga Sibugay. One. The COMELEC appears hasty in concluding that Jalosjos failed to prove that he successfully changed his domicile to Zamboanga Sibugay. Three. While the Court ordinarily respects the factual findings of administrative bodies like the COMELEC this does not prevent it from exercising its review powers to correct palpable misappreciation of evidence or wrong or irrelevant considerations.\n",
      "\n",
      "ISSUES:\n",
      "But it is clear from the facts that Quezon City was Jalosjos domicile of origin the place of his birth. It may be taken for granted that he effectively changed his domicile from Quezon City to Australia when he migrated there at the age of eight acquired Australian citizenship and lived in that country for 26 years.\n",
      "\n",
      "RULINGS:\n",
      "G.R. No. 686 Phil. 563 ROMMEL APOLINARIO JALOSJOS PETITIONER VS. THE COMMISSION ON ELECTIONS AND DAN ERASMO SR. DECISION ABAD J.: Petitioner Rommel Jalosjos was born in Quezon City on October 26 1973. He migrated to Australia in 1981 when he was eight years old and there acquired Australian citizenship. From the time of his return Jalosjos acquired a residential property in the same village where he lived and a fishpond in San Isidro Naga Zamboanga Sibugay. He applied for registration as a voter in the Municipality of Ipil but respondent Dan Erasmo Sr. Undaunted Erasmo filed before the 1 st Municipal Circuit Trial Court MCTC of IpilTungawan-R.T. Lim in Ipil a petition for the exclusion of Jalosjos name from the official voters list. On November 28 2009 Jalosjos filed his Certificate of Candidacy COC for Governor of Zamboanga Sibugay Province for the May 10 2010 elections. Erasmo promptly filed a petition to deny due course or to cancel Jalosjos COC on the ground that the latter made material misrepresentation in the same since he failed to comply with 1 the requirements of R.A. The Issue Presented On the other hand when he came to the Philippines in November 2008 to live with his brother in Zamboanga Sibugay it is evident that Jalosjos did so with intent to change his domicile for good. He left Australia gave up his Australian citizenship and renounced his allegiance to that country. Four. Jalosjos won and was proclaimed winner in the 2010 gubernatorial race for Zamboanga Sibugay. WHEREFORE the Court GRANTS the petition and SETS ASIDE the Resolution of the COMELEC Second Division dated February 11 2010 and the Resolution of the COMELEC En Banc dated May 4 2010 that disqualified petitioner Rommel Jalosjos from seeking election as Governor of Zamboanga Sibugay. SO ORDERED.\n"
     ]
    }
   ],
   "source": [
    "print(\"Summary:\")\n",
    "print(summary)"
   ]
  }
 ],
 "metadata": {
  "kernelspec": {
   "display_name": "Python 3",
   "language": "python",
   "name": "python3"
  },
  "language_info": {
   "codemirror_mode": {
    "name": "ipython",
    "version": 3
   },
   "file_extension": ".py",
   "mimetype": "text/x-python",
   "name": "python",
   "nbconvert_exporter": "python",
   "pygments_lexer": "ipython3",
   "version": "3.11.6"
  }
 },
 "nbformat": 4,
 "nbformat_minor": 4
}
