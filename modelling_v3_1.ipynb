{
 "cells": [
  {
   "cell_type": "code",
   "execution_count": 1,
   "id": "76bbc82f-b27c-4838-8708-90ccade5db4b",
   "metadata": {},
   "outputs": [
    {
     "name": "stdout",
     "output_type": "stream",
     "text": [
      "WARNING:tensorflow:From C:\\Users\\mdfl0\\AppData\\Roaming\\Python\\Python311\\site-packages\\tf_keras\\src\\losses.py:2976: The name tf.losses.sparse_softmax_cross_entropy is deprecated. Please use tf.compat.v1.losses.sparse_softmax_cross_entropy instead.\n",
      "\n"
     ]
    }
   ],
   "source": [
    "from preprocessing_v3 import *\n",
    "import evaluate\n",
    "import numpy as np\n",
    "import torch\n",
    "from datasets import Dataset\n",
    "from transformers import AdamW\n",
    "import time\n",
    "from transformers import Trainer, TrainingArguments\n",
    "import evaluate\n",
    "accuracy = evaluate.load(\"accuracy\")"
   ]
  },
  {
   "cell_type": "code",
   "execution_count": 2,
   "id": "1cccf68a-896f-4cf8-92d7-e0ef78a4f9cb",
   "metadata": {},
   "outputs": [],
   "source": [
    "def compute_metrics(eval_pred):\n",
    "    try:\n",
    "        predictions, labels = eval_pred\n",
    "    \n",
    "        try:\n",
    "            # Ensure predictions and labels are NumPy arrays to safely access their shape\n",
    "            predictions = np.array(predictions)\n",
    "            labels = np.array(labels)\n",
    "            \n",
    "            print(f\"Predictions shape: {predictions.shape}\")\n",
    "            print(f\"Labels shape: {labels.shape}\\n\")\n",
    "            \n",
    "        except AttributeError as e:\n",
    "            print(f\"Error accessing shapes: {e}\")\n",
    "            print(f\"Predictions type: {type(predictions)}\")\n",
    "            print(f\"Labels type: {type(labels)}\")\n",
    "            return {}\n",
    "    \n",
    "        # Handle case where data is smaller and not batched\n",
    "        if len(predictions.shape) == 1:\n",
    "            predictions = np.expand_dims(predictions, 0)  # Add batch dimension if missing\n",
    "        \n",
    "        if len(predictions.shape) > 2:\n",
    "            # Apply a reduction if predictions have more than two dimensions (e.g., for sequence classification)\n",
    "            predictions = predictions[:, 0, :]  # Take the first token's logits for each sequence\n",
    "    \n",
    "        # Convert logits to predicted labels\n",
    "        predictions = np.argmax(predictions, axis=1)\n",
    "    \n",
    "        # Handle empty predictions or labels case\n",
    "        if len(predictions) == 0 or len(labels) == 0:\n",
    "            return {\"accuracy\": 0.0, \"f1\": 0.0, \"recall\": 0.0}\n",
    "        \n",
    "        # Handle case where there's only one class in the labels\n",
    "        if len(np.unique(labels)) == 1:\n",
    "            return {\"accuracy\": 1.0 if (predictions == labels).all() else 0.0}\n",
    "    \n",
    "        # Compute accuracy using a metric function\n",
    "        return accuracy.compute(predictions=predictions, references=labels)\n",
    "    except Exception as e:\n",
    "        print(e)\n",
    "        return {}"
   ]
  },
  {
   "cell_type": "code",
   "execution_count": 3,
   "id": "b5052855-7941-4cdc-b4ad-6d90c115e8fe",
   "metadata": {},
   "outputs": [
    {
     "name": "stdout",
     "output_type": "stream",
     "text": [
      "label\n",
      "0    2000\n",
      "1    2000\n",
      "2    2000\n",
      "Name: count, dtype: int64\n",
      "Added 36773 new tokens\n",
      "\n"
     ]
    }
   ],
   "source": [
    "# Prepare the data, model, and tokenizer before training\n",
    "preprocessor = preprocess('court_cases_headings_labels.csv')"
   ]
  },
  {
   "cell_type": "code",
   "execution_count": 4,
   "id": "d58597ac-6879-474e-b807-92a21887c4d4",
   "metadata": {},
   "outputs": [
    {
     "data": {
      "application/vnd.jupyter.widget-view+json": {
       "model_id": "2335d4fda48c47969bde1348bc6638e6",
       "version_major": 2,
       "version_minor": 0
      },
      "text/plain": [
       "Map:   0%|          | 0/5400 [00:00<?, ? examples/s]"
      ]
     },
     "metadata": {},
     "output_type": "display_data"
    },
    {
     "data": {
      "application/vnd.jupyter.widget-view+json": {
       "model_id": "c4eb106caa814b6682e5704fb0d4e443",
       "version_major": 2,
       "version_minor": 0
      },
      "text/plain": [
       "Map:   0%|          | 0/600 [00:00<?, ? examples/s]"
      ]
     },
     "metadata": {},
     "output_type": "display_data"
    }
   ],
   "source": [
    "preprocessor.prepare_LED_data()"
   ]
  },
  {
   "cell_type": "code",
   "execution_count": 5,
   "id": "5413e232-b5fb-430e-be53-67cb52e3ffb4",
   "metadata": {},
   "outputs": [
    {
     "name": "stdout",
     "output_type": "stream",
     "text": [
      "Model configuration:  BartConfig {\n",
      "  \"_name_or_path\": \"facebook/bart-base\",\n",
      "  \"activation_dropout\": 0.1,\n",
      "  \"activation_function\": \"gelu\",\n",
      "  \"add_bias_logits\": false,\n",
      "  \"add_final_layer_norm\": false,\n",
      "  \"architectures\": [\n",
      "    \"BartModel\"\n",
      "  ],\n",
      "  \"attention_dropout\": 0.1,\n",
      "  \"bos_token_id\": 0,\n",
      "  \"classif_dropout\": 0.1,\n",
      "  \"classifier_dropout\": 0.0,\n",
      "  \"d_model\": 768,\n",
      "  \"decoder_attention_heads\": 12,\n",
      "  \"decoder_ffn_dim\": 3072,\n",
      "  \"decoder_layerdrop\": 0.0,\n",
      "  \"decoder_layers\": 6,\n",
      "  \"decoder_start_token_id\": 2,\n",
      "  \"dropout\": 0.1,\n",
      "  \"encoder_attention_heads\": 12,\n",
      "  \"encoder_ffn_dim\": 3072,\n",
      "  \"encoder_layerdrop\": 0.0,\n",
      "  \"encoder_layers\": 6,\n",
      "  \"eos_token_id\": 2,\n",
      "  \"forced_eos_token_id\": 2,\n",
      "  \"gradient_checkpointing\": false,\n",
      "  \"id2label\": {\n",
      "    \"0\": \"rulings\",\n",
      "    \"1\": \"facts\",\n",
      "    \"2\": \"issues\"\n",
      "  },\n",
      "  \"init_std\": 0.02,\n",
      "  \"is_encoder_decoder\": true,\n",
      "  \"label2id\": {\n",
      "    \"facts\": 1,\n",
      "    \"issues\": 2,\n",
      "    \"rulings\": 0\n",
      "  },\n",
      "  \"max_position_embeddings\": 128,\n",
      "  \"model_type\": \"bart\",\n",
      "  \"normalize_before\": false,\n",
      "  \"normalize_embedding\": true,\n",
      "  \"num_hidden_layers\": 6,\n",
      "  \"pad_token_id\": 1,\n",
      "  \"problem_type\": \"single_label_classification\",\n",
      "  \"scale_embedding\": false,\n",
      "  \"task_specific_params\": {\n",
      "    \"summarization\": {\n",
      "      \"length_penalty\": 1.0,\n",
      "      \"max_length\": 128,\n",
      "      \"min_length\": 12,\n",
      "      \"num_beams\": 4\n",
      "    },\n",
      "    \"summarization_cnn\": {\n",
      "      \"length_penalty\": 2.0,\n",
      "      \"max_length\": 142,\n",
      "      \"min_length\": 56,\n",
      "      \"num_beams\": 4\n",
      "    },\n",
      "    \"summarization_xsum\": {\n",
      "      \"length_penalty\": 1.0,\n",
      "      \"max_length\": 62,\n",
      "      \"min_length\": 11,\n",
      "      \"num_beams\": 6\n",
      "    }\n",
      "  },\n",
      "  \"torch_dtype\": \"float32\",\n",
      "  \"transformers_version\": \"4.45.0\",\n",
      "  \"use_cache\": true,\n",
      "  \"vocab_size\": 87038\n",
      "}\n",
      "\n"
     ]
    }
   ],
   "source": [
    "BART_model, BART_tokenizer, train_data, eval_data = preprocessor.return_model_tokenizer_data()"
   ]
  },
  {
   "cell_type": "code",
   "execution_count": 6,
   "id": "e696026a-c1d2-415d-8d6f-5653948c68fd",
   "metadata": {},
   "outputs": [],
   "source": [
    "training_args = TrainingArguments(\n",
    "    output_dir=\"my_awesome_model\",\n",
    "    learning_rate=5e-5,  # Adjusted learning rate\n",
    "    per_device_train_batch_size=8,  # Increased batch size\n",
    "    per_device_eval_batch_size=8,    # Increased eval batch size\n",
    "    num_train_epochs=1,\n",
    "    weight_decay=0.01,\n",
    "    eval_strategy=\"steps\",  # Evaluate every few steps\n",
    "    eval_steps=500,         # Adjust evaluation frequency\n",
    "    logging_steps=100,      # Adjust logging frequency\n",
    "    load_best_model_at_end=True,\n",
    "    fp16=True,              # Mixed precision training\n",
    "    gradient_accumulation_steps=2,  # Simulate larger batch sizes\n",
    "    dataloader_num_workers=4,  # For efficient data loading\n",
    ")\n",
    "trainer = Trainer(\n",
    "    model=BART_model,\n",
    "    args=training_args,\n",
    "    train_dataset=train_data,\n",
    "    eval_dataset=eval_data,\n",
    "    tokenizer=BART_tokenizer,\n",
    "    compute_metrics=compute_metrics,\n",
    ")"
   ]
  },
  {
   "cell_type": "code",
   "execution_count": 10,
   "id": "40ca5c28-5470-4b28-9a7b-fe290a4c10b1",
   "metadata": {},
   "outputs": [
    {
     "data": {
      "text/plain": [
       "Dataset({\n",
       "    features: ['labels', 'input_ids', 'attention_mask'],\n",
       "    num_rows: 600\n",
       "})"
      ]
     },
     "execution_count": 10,
     "metadata": {},
     "output_type": "execute_result"
    }
   ],
   "source": [
    "eval_data"
   ]
  },
  {
   "cell_type": "code",
   "execution_count": 7,
   "id": "e4118a0d-2439-4837-a772-36a8a24e5c0d",
   "metadata": {},
   "outputs": [
    {
     "data": {
      "text/html": [
       "\n",
       "    <div>\n",
       "      \n",
       "      <progress value='337' max='337' style='width:300px; height:20px; vertical-align: middle;'></progress>\n",
       "      [337/337 2:32:01, Epoch 0/1]\n",
       "    </div>\n",
       "    <table border=\"1\" class=\"dataframe\">\n",
       "  <thead>\n",
       " <tr style=\"text-align: left;\">\n",
       "      <th>Step</th>\n",
       "      <th>Training Loss</th>\n",
       "      <th>Validation Loss</th>\n",
       "    </tr>\n",
       "  </thead>\n",
       "  <tbody>\n",
       "  </tbody>\n",
       "</table><p>"
      ],
      "text/plain": [
       "<IPython.core.display.HTML object>"
      ]
     },
     "metadata": {},
     "output_type": "display_data"
    },
    {
     "data": {
      "text/plain": [
       "TrainOutput(global_step=337, training_loss=1.0297713350471474, metrics={'train_runtime': 9177.872, 'train_samples_per_second': 0.588, 'train_steps_per_second': 0.037, 'total_flos': 413417600815104.0, 'train_loss': 1.0297713350471474, 'epoch': 0.9985185185185185})"
      ]
     },
     "execution_count": 7,
     "metadata": {},
     "output_type": "execute_result"
    }
   ],
   "source": [
    "trainer.train()"
   ]
  },
  {
   "cell_type": "code",
   "execution_count": 8,
   "id": "47a38b30-bd43-4ccf-b6ba-3726827d3a35",
   "metadata": {},
   "outputs": [],
   "source": [
    "# end of training"
   ]
  },
  {
   "cell_type": "code",
   "execution_count": 4,
   "id": "16427ee0-ab76-42d8-ac48-4598c72979a7",
   "metadata": {
    "scrolled": true
   },
   "outputs": [
    {
     "name": "stderr",
     "output_type": "stream",
     "text": [
      "Some weights of BartForSequenceClassification were not initialized from the model checkpoint at my_awesome_model/checkpoint-337 and are newly initialized because the shapes did not match:\n",
      "- model.decoder.embed_positions.weight: found shape torch.Size([1026, 768]) in the checkpoint and torch.Size([130, 768]) in the model instantiated\n",
      "- model.encoder.embed_positions.weight: found shape torch.Size([1026, 768]) in the checkpoint and torch.Size([130, 768]) in the model instantiated\n",
      "You should probably TRAIN this model on a down-stream task to be able to use it for predictions and inference.\n"
     ]
    },
    {
     "name": "stdout",
     "output_type": "stream",
     "text": [
      "Predicted label for 'WHEREAS, NCIP moved for a reconsideration of the CA Decision but was denied in a Resolution dated August 9, 2016': rulings\n"
     ]
    }
   ],
   "source": [
    "# Load the trained model and tokenizer from the saved directory\n",
    "model_path = 'my_awesome_model/checkpoint-337' # Replace with your actual model path\n",
    "model = BartForSequenceClassification.from_pretrained(model_path, ignore_mismatched_sizes=True)\n",
    "tokenizer = BartTokenizer.from_pretrained(model_path)\n",
    "\n",
    "# Prepare the input string\n",
    "input_string = \"WHEREAS, NCIP moved for a reconsideration of the CA Decision but was denied in a Resolution dated August 9, 2016\"\n",
    "\n",
    "# Tokenize the input\n",
    "inputs = tokenizer(input_string, return_tensors=\"pt\")\n",
    "\n",
    "# Set the model to evaluation mode\n",
    "model.eval()\n",
    "\n",
    "# Perform inference\n",
    "with torch.no_grad():\n",
    "    outputs = model(**inputs)\n",
    "\n",
    "# Get the predicted label (logits are raw predictions before softmax)\n",
    "logits = outputs.logits\n",
    "predicted_class_id = torch.argmax(logits, dim=-1).item()\n",
    "\n",
    "# Map the predicted class ID to the corresponding label\n",
    "id2label = model.config.id2label\n",
    "predicted_label = id2label[predicted_class_id]\n",
    "\n",
    "# Output the result\n",
    "print(f\"Predicted label for '{input_string}': {predicted_label}\")"
   ]
  },
  {
   "cell_type": "code",
   "execution_count": 11,
   "id": "8500e7b1-c94f-46d2-a088-4714c6291408",
   "metadata": {},
   "outputs": [],
   "source": [
    "from sklearn.metrics import accuracy_score, f1_score, recall_score, confusion_matrix\n",
    "import matplotlib.pyplot as plt\n",
    "import seaborn as sns"
   ]
  },
  {
   "cell_type": "code",
   "execution_count": 12,
   "id": "2af08265-c784-4af2-8b1a-532d73ee1baa",
   "metadata": {},
   "outputs": [
    {
     "name": "stderr",
     "output_type": "stream",
     "text": [
      "Some weights of BartForSequenceClassification were not initialized from the model checkpoint at my_awesome_model/checkpoint-337 and are newly initialized because the shapes did not match:\n",
      "- model.decoder.embed_positions.weight: found shape torch.Size([1026, 768]) in the checkpoint and torch.Size([130, 768]) in the model instantiated\n",
      "- model.encoder.embed_positions.weight: found shape torch.Size([1026, 768]) in the checkpoint and torch.Size([130, 768]) in the model instantiated\n",
      "You should probably TRAIN this model on a down-stream task to be able to use it for predictions and inference.\n"
     ]
    }
   ],
   "source": [
    "# Load the trained model and tokenizer from the saved directory\n",
    "model_path = 'my_awesome_model/checkpoint-337'  # Replace with your actual model path\n",
    "model = BartForSequenceClassification.from_pretrained(model_path, ignore_mismatched_sizes=True)\n",
    "tokenizer = BartTokenizer.from_pretrained(model_path)\n",
    "\n",
    "# Set the model to evaluation mode\n",
    "model.eval()\n",
    "\n",
    "# Prepare variables to collect predictions and labels\n",
    "all_predictions = []\n",
    "all_labels = []"
   ]
  },
  {
   "cell_type": "code",
   "execution_count": 23,
   "id": "f96972a3-5415-4b1f-b019-2994b2b0fdce",
   "metadata": {},
   "outputs": [],
   "source": [
    "# Assuming eval_dataset is already loaded and tokenized\n",
    "for example in eval_data:\n",
    "    input_ids = example['input_ids'].unsqueeze(0)  # Add batch dimension (1, sequence_length)\n",
    "    attention_mask = example['attention_mask'].unsqueeze(0)  # Add batch dimension (1, sequence_length)\n",
    "    labels = example['labels']\n",
    "\n",
    "    # Prepare inputs for the model\n",
    "    inputs = {\n",
    "        'input_ids': input_ids,\n",
    "        'attention_mask': attention_mask,\n",
    "    }\n",
    "\n",
    "    # Perform inference\n",
    "    with torch.no_grad():\n",
    "        outputs = model(**inputs)\n",
    "\n",
    "    # Get the predicted label (logits are raw predictions before softmax)\n",
    "    logits = outputs.logits\n",
    "    predicted_class_id = torch.argmax(logits, dim=-1).item()  # Get scalar value\n",
    "\n",
    "    # Store predictions and labels\n",
    "    all_predictions.append(predicted_class_id)\n",
    "    all_labels.append(labels)"
   ]
  },
  {
   "cell_type": "code",
   "execution_count": 24,
   "id": "9fb11673-47ff-4702-8ec4-ea73656e3ee3",
   "metadata": {},
   "outputs": [
    {
     "name": "stdout",
     "output_type": "stream",
     "text": [
      "Accuracy: 0.4600\n",
      "F1 Score: 0.4603\n",
      "Recall: 0.4600\n"
     ]
    },
    {
     "data": {
      "image/png": "[encoded data removed]",
      "text/plain": [
       "<Figure size 800x600 with 2 Axes>"
      ]
     },
     "metadata": {},
     "output_type": "display_data"
    }
   ],
   "source": [
    "# Convert lists to numpy arrays\n",
    "all_predictions = np.array(all_predictions)\n",
    "all_labels = np.array(all_labels)\n",
    "\n",
    "# Compute accuracy, F1 score, and recall\n",
    "accuracy = accuracy_score(all_labels, all_predictions)\n",
    "f1 = f1_score(all_labels, all_predictions, average='weighted')\n",
    "recall = recall_score(all_labels, all_predictions, average='weighted')\n",
    "\n",
    "print(f\"Accuracy: {accuracy:.4f}\")\n",
    "print(f\"F1 Score: {f1:.4f}\")\n",
    "print(f\"Recall: {recall:.4f}\")\n",
    "\n",
    "# Compute confusion matrix\n",
    "conf_matrix = confusion_matrix(all_labels, all_predictions)\n",
    "\n",
    "# Plot confusion matrix\n",
    "plt.figure(figsize=(8, 6))\n",
    "sns.heatmap(conf_matrix, annot=True, fmt=\"d\", cmap=\"Blues\", xticklabels=model.config.id2label.values(), yticklabels=model.config.id2label.values())\n",
    "plt.xlabel('Predicted Label')\n",
    "plt.ylabel('True Label')\n",
    "plt.title('Confusion Matrix')\n",
    "plt.show()"
   ]
  },
  {
   "cell_type": "code",
   "execution_count": null,
   "id": "299b709d-888f-46a2-89e8-add2c7414cdd",
   "metadata": {},
   "outputs": [],
   "source": []
  }
 ],
 "metadata": {
  "kernelspec": {
   "display_name": "Python 3 (ipykernel)",
   "language": "python",
   "name": "python3"
  },
  "language_info": {
   "codemirror_mode": {
    "name": "ipython",
    "version": 3
   },
   "file_extension": ".py",
   "mimetype": "text/x-python",
   "name": "python",
   "nbconvert_exporter": "python",
   "pygments_lexer": "ipython3",
   "version": "3.11.6"
  }
 },
 "nbformat": 4,
 "nbformat_minor": 5
}
