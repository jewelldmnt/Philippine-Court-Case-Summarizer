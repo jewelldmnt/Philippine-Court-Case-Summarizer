{
 "cells": [
  {
   "cell_type": "code",
   "execution_count": 2,
   "id": "79b3dbf2-355c-4bb4-a11f-2f5c10ce1b39",
   "metadata": {},
   "outputs": [
    {
     "name": "stdout",
     "output_type": "stream",
     "text": [
      "CSV files created successfully.\n"
     ]
    }
   ],
   "source": [
    "import pandas as pd\n",
    "\n",
    "# Step 1: Read the CSV file into a DataFrame\n",
    "df = pd.read_csv(\"court_cases_headings_labels.csv\")\n",
    "\n",
    "# Step 2: Calculate the number of rows to split into four equal parts\n",
    "split_size = len(df) // 4\n",
    "\n",
    "# Step 3: Split the DataFrame into four smaller DataFrames\n",
    "df1 = df.iloc[:split_size]               # First part\n",
    "df2 = df.iloc[split_size:split_size*2]   # Second part\n",
    "df3 = df.iloc[split_size*2:split_size*3] # Third part\n",
    "df4 = df.iloc[split_size*3:]             # Fourth part (remaining rows)\n",
    "\n",
    "# Step 4: Write each smaller DataFrame to a separate CSV file\n",
    "df1.to_csv(\"court_cases_part1.csv\", index=False)\n",
    "df2.to_csv(\"court_cases_part2.csv\", index=False)\n",
    "df3.to_csv(\"court_cases_part3.csv\", index=False)\n",
    "df4.to_csv(\"court_cases_part4.csv\", index=False)\n",
    "\n",
    "print(\"CSV files created successfully.\")"
   ]
  },
  {
   "cell_type": "code",
   "execution_count": null,
   "id": "cf065bcb-24b0-4948-8b7b-95d793429b53",
   "metadata": {},
   "outputs": [],
   "source": []
  }
 ],
 "metadata": {
  "kernelspec": {
   "display_name": "Python 3 (ipykernel)",
   "language": "python",
   "name": "python3"
  },
  "language_info": {
   "codemirror_mode": {
    "name": "ipython",
    "version": 3
   },
   "file_extension": ".py",
   "mimetype": "text/x-python",
   "name": "python",
   "nbconvert_exporter": "python",
   "pygments_lexer": "ipython3",
   "version": "3.11.6"
  }
 },
 "nbformat": 4,
 "nbformat_minor": 5
}
