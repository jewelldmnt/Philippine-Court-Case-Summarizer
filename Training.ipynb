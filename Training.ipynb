{
 "cells": [
  {
   "cell_type": "code",
   "execution_count": null,
   "id": "0299afa2",
   "metadata": {},
   "outputs": [],
   "source": [
    "# =============================================================================\n",
    "# Program Title: Court Case Preprocessing and Model Training (BART)\n",
    "# Programmers: Miguel Tolentino\n",
    "# Date Written: September 29, 2024\n",
    "# Date Revised: October 17, 2024\n",
    "#\n",
    "# Purpose:\n",
    "#     This program is designed to preprocess legal court case data for machine\n",
    "#     learning purposes using the BART model. It handles tasks such as paragraph\n",
    "#     segmentation, data cleaning, tokenization, label balancing, and preparing\n",
    "#     the data for model training. Additionally, it configures the BART model and\n",
    "#     trains it using the preprocessed data.\n",
    "#\n",
    "#     The goal is to automate the preprocessing and training pipeline for court\n",
    "#     case analysis, which can later be used for tasks such as legal document\n",
    "#     classification and summarization.\n",
    "#\n",
    "# Where the program fits in the general system design:\n",
    "#     This program is a key component of a larger legal document processing\n",
    "#     system. It preprocesses raw court case data to make it suitable for model\n",
    "#     training, followed by training a machine learning model (BART) to classify\n",
    "#     legal texts. The outputs from this program are used in downstream processes\n",
    "#     like classification or prediction tasks in the broader legal document\n",
    "#     analysis system.\n",
    "#\n",
    "# Data Structures, Algorithms, and Control:\n",
    "#     - Data Structures:\n",
    "#         - **DataFrame (`df_balanced`)**: A pandas DataFrame containing the\n",
    "#           balanced court case data with labels.\n",
    "#         - **List (`segment_labels`)**: A list of integer labels representing the\n",
    "#           segmented categories (e.g., facts, issues, ruling).\n",
    "#         - **Dictionary (`train_data`, `eval_data`)**: Data structured for use in\n",
    "#           model training and evaluation.\n",
    "#     - Algorithms:\n",
    "#         - **Text Preprocessing**: Includes tokenization, segmentation, and noise\n",
    "#           removal to prepare data for the BART model.\n",
    "#         - **Label Balancing**: Downsampling of majority class labels to handle\n",
    "#           class imbalance.\n",
    "#         - **BART Configuration**: Configures the BART model and tokenizer for\n",
    "#           training.\n",
    "#         - **Model Training**: Uses the preprocessed data to train the BART model.\n",
    "#     - Control:\n",
    "#         - The program follows a sequential execution flow: data preprocessing,\n",
    "#           BART configuration, data preparation, and model training. Error handling\n",
    "#           ensures smooth execution for preprocessing steps, but model configuration\n",
    "#           and training steps assume the data is properly preprocessed and balanced.\n",
    "# ============================================================================="
   ]
  },
  {
   "cell_type": "code",
   "execution_count": 1,
   "id": "6d5a9f36-c560-46d5-b0ce-832c4d92f7d2",
   "metadata": {},
   "outputs": [
    {
     "name": "stderr",
     "output_type": "stream",
     "text": [
      "[nltk_data] Downloading package stopwords to\n",
      "[nltk_data]     C:\\Users\\mdfl0\\AppData\\Roaming\\nltk_data...\n",
      "[nltk_data]   Package stopwords is already up-to-date!\n"
     ]
    },
    {
     "name": "stdout",
     "output_type": "stream",
     "text": [
      "WARNING:tensorflow:From C:\\Users\\mdfl0\\AppData\\Roaming\\Python\\Python311\\site-packages\\tf_keras\\src\\losses.py:2976: The name tf.losses.sparse_softmax_cross_entropy is deprecated. Please use tf.compat.v1.losses.sparse_softmax_cross_entropy instead.\n",
      "\n"
     ]
    }
   ],
   "source": [
    "from Custom_Modules.Preprocess import *\n",
    "from Custom_Modules.Modelling import *\n",
    "from Custom_Modules.ModelConfiguration import *"
   ]
  },
  {
   "cell_type": "markdown",
   "id": "bda45468-2120-462a-b20d-c1008d6139c9",
   "metadata": {},
   "source": [
    "# Data Preprocessing"
   ]
  },
  {
   "cell_type": "code",
   "execution_count": 2,
   "id": "519b181c-dad5-4367-9dea-8701ba082e30",
   "metadata": {
    "scrolled": true
   },
   "outputs": [
    {
     "name": "stdout",
     "output_type": "stream",
     "text": [
      "Removing Unnecesary Characters Completed\n",
      "Paragraph Segmentation Completed\n",
      "Removing Noisy Data Completed\n",
      "Tokenization Completed\n",
      "label\n",
      "2    13040\n",
      "0     3486\n",
      "1      850\n",
      "Name: count, dtype: int64\n",
      "label\n",
      "1    3486\n",
      "2    3486\n",
      "0    3486\n",
      "Name: count, dtype: int64\n",
      "Data Balancing Completed\n"
     ]
    }
   ],
   "source": [
    "# Instantiate the preprocessing class\n",
    "preprocessor = preprocess('new_data.csv', 'short_csv_headings_label.csv')\n",
    "\n",
    "# Remove tokens and characters that are not helpful for the model while doing Paragraph Segmentation\n",
    "preprocessor.paragraph_segmentation()\n",
    "\n",
    "# Remove data that doesnt give that much meaning\n",
    "preprocessor.remove_noisy_data()\n",
    "\n",
    "# Tokenize the text, storing useful tokens and sentences\n",
    "preprocessor.tokenize()\n",
    "\n",
    "# Balance the labels by downsampling the majority classes\n",
    "preprocessor.balance_labels()\n",
    "\n",
    "# Outputs a csv file (labels: \"facts\": 0, \"issues\": 1, \"ruling\": 2)\n",
    "preprocessor.output_csv_file() # add a file name like 'data.csv'"
   ]
  },
  {
   "cell_type": "markdown",
   "id": "8f27de4a",
   "metadata": {},
   "source": [
    "# BART Model Configuration"
   ]
  },
  {
   "cell_type": "code",
   "execution_count": 3,
   "id": "3b0ad03e",
   "metadata": {},
   "outputs": [
    {
     "name": "stdout",
     "output_type": "stream",
     "text": [
      "Model Configuration Completed\n"
     ]
    }
   ],
   "source": [
    "# Instantiate the model configuration class\n",
    "configurer = model_configure()\n",
    "\n",
    "# Configure Model and add unknown tokens to the vocabulary of the tokenizer.\n",
    "configurer.set_model_configuration(preprocessor.sentences_tokens)"
   ]
  },
  {
   "cell_type": "code",
   "execution_count": 4,
   "id": "0b51f55b-2897-47cd-974d-8670c8b46b5a",
   "metadata": {},
   "outputs": [
    {
     "data": {
      "application/vnd.jupyter.widget-view+json": {
       "model_id": "a75acb927c98480f81354f2af90e4e89",
       "version_major": 2,
       "version_minor": 0
      },
      "text/plain": [
       "Map:   0%|          | 0/9495 [00:00<?, ? examples/s]"
      ]
     },
     "metadata": {},
     "output_type": "display_data"
    },
    {
     "data": {
      "application/vnd.jupyter.widget-view+json": {
       "model_id": "6a03c9ba30b3437f91c61e36330ce603",
       "version_major": 2,
       "version_minor": 0
      },
      "text/plain": [
       "Map:   0%|          | 0/1056 [00:00<?, ? examples/s]"
      ]
     },
     "metadata": {},
     "output_type": "display_data"
    }
   ],
   "source": [
    "# Return the tokenizer, and model\n",
    "BART_model, BART_tokenizer= configurer.return_model_tokenizer()\n",
    "\n",
    "# Prepare the final format of the data for the BART model\n",
    "preprocessor.prepare_BART_data(BART_tokenizer)\n",
    "\n",
    "# Return the preprocessed data for training\n",
    "train_data, eval_data = preprocessor.return_data()"
   ]
  },
  {
   "cell_type": "code",
   "execution_count": 5,
   "id": "2a32e69a-4f6d-4f28-a5d0-7c0516ed9f8e",
   "metadata": {},
   "outputs": [
    {
     "name": "stdout",
     "output_type": "stream",
     "text": [
      "label\n",
      "1    3486\n",
      "2    3486\n",
      "0    3486\n",
      "Name: count, dtype: int64\n"
     ]
    }
   ],
   "source": [
    "print(preprocessor.df_balanced['label'].value_counts())"
   ]
  },
  {
   "cell_type": "markdown",
   "id": "0f60d6a1-4d56-4380-8e59-127eed6ee57e",
   "metadata": {},
   "source": [
    "# Training of the BART Model"
   ]
  },
  {
   "cell_type": "markdown",
   "id": "d427438d-d530-4457-84f3-62b6ee6c78af",
   "metadata": {},
   "source": [
    "#### Run this line of code if you will retrain model on new data"
   ]
  },
  {
   "cell_type": "code",
   "execution_count": 8,
   "id": "3d3f2b9c-5a54-4cf4-b9a2-606df0effa43",
   "metadata": {},
   "outputs": [
    {
     "name": "stderr",
     "output_type": "stream",
     "text": [
      "Some weights of BartForSequenceClassification were not initialized from the model checkpoint at my_awesome_model/75 and are newly initialized because the shapes did not match:\n",
      "- model.decoder.embed_positions.weight: found shape torch.Size([1026, 768]) in the checkpoint and torch.Size([130, 768]) in the model instantiated\n",
      "- model.encoder.embed_positions.weight: found shape torch.Size([1026, 768]) in the checkpoint and torch.Size([130, 768]) in the model instantiated\n",
      "You should probably TRAIN this model on a down-stream task to be able to use it for predictions and inference.\n"
     ]
    }
   ],
   "source": [
    "from transformers import BartTokenizer, BartForSequenceClassification, BartConfig\n",
    "\n",
    "# Setup labels\n",
    "id2label = {0: \"rulings\", 1: \"facts\", 2: \"issues\"}\n",
    "label2id = {\"rulings\": 0, \"facts\": 1, \"issues\": 2}\n",
    "\n",
    "# Load tokenizer and model from local directory\n",
    "BART_tokenizer = BartTokenizer.from_pretrained(\"my_awesome_model/75\")\n",
    "BART_model = BartForSequenceClassification.from_pretrained(\n",
    "    \"my_awesome_model/75\", \n",
    "    num_labels=3, \n",
    "    id2label=id2label, \n",
    "    label2id=label2id,\n",
    "    problem_type=\"single_label_classification\",\n",
    "    ignore_mismatched_sizes=True\n",
    ")"
   ]
  },
  {
   "cell_type": "markdown",
   "id": "d3c3506e-2fc9-4017-8d3f-55e8d3c02634",
   "metadata": {},
   "source": [
    "#### Actual training of the model"
   ]
  },
  {
   "cell_type": "code",
   "execution_count": 9,
   "id": "0d60ab15-2ffd-460b-8f4c-cd72850b65d7",
   "metadata": {},
   "outputs": [
    {
     "data": {
      "text/html": [
       "\n",
       "    <div>\n",
       "      \n",
       "      <progress value='593' max='593' style='width:300px; height:20px; vertical-align: middle;'></progress>\n",
       "      [593/593 4:49:21, Epoch 0/1]\n",
       "    </div>\n",
       "    <table border=\"1\" class=\"dataframe\">\n",
       "  <thead>\n",
       " <tr style=\"text-align: left;\">\n",
       "      <th>Step</th>\n",
       "      <th>Training Loss</th>\n",
       "      <th>Validation Loss</th>\n",
       "    </tr>\n",
       "  </thead>\n",
       "  <tbody>\n",
       "    <tr>\n",
       "      <td>500</td>\n",
       "      <td>0.518900</td>\n",
       "      <td>0.468902</td>\n",
       "    </tr>\n",
       "  </tbody>\n",
       "</table><p>"
      ],
      "text/plain": [
       "<IPython.core.display.HTML object>"
      ]
     },
     "metadata": {},
     "output_type": "display_data"
    },
    {
     "name": "stdout",
     "output_type": "stream",
     "text": [
      "setting an array element with a sequence. The requested array has an inhomogeneous shape after 2 dimensions. The detected shape was (2, 1056) + inhomogeneous part.\n"
     ]
    },
    {
     "name": "stderr",
     "output_type": "stream",
     "text": [
      "There were missing keys in the checkpoint model loaded: ['model.encoder.embed_tokens.weight', 'model.decoder.embed_tokens.weight'].\n"
     ]
    }
   ],
   "source": [
    "modeller = Modelling(train_data, eval_data, BART_tokenizer, BART_model)\n",
    "modeller.train_model()"
   ]
  },
  {
   "cell_type": "code",
   "execution_count": 10,
   "id": "24117000-987e-4240-80f1-8a50b27b8cd9",
   "metadata": {},
   "outputs": [
    {
     "name": "stdout",
     "output_type": "stream",
     "text": [
      "Accuracy: 0.7955\n",
      "F1 Score: 0.7934\n",
      "Recall: 0.7955\n"
     ]
    },
    {
     "data": {
      "image/png": "[encoded data removed]",
      "text/plain": [
       "<Figure size 800x600 with 2 Axes>"
      ]
     },
     "metadata": {},
     "output_type": "display_data"
    }
   ],
   "source": [
    "# Show Model Accuracy\n",
    "modeller.calc_accuracy()"
   ]
  },
  {
   "cell_type": "markdown",
   "id": "fc14986d-096f-4968-bbba-544268c16842",
   "metadata": {
    "jp-MarkdownHeadingCollapsed": true
   },
   "source": [
    "# End of main"
   ]
  }
 ],
 "metadata": {
  "kernelspec": {
   "display_name": "Python 3",
   "language": "python",
   "name": "python3"
  },
  "language_info": {
   "codemirror_mode": {
    "name": "ipython",
    "version": 3
   },
   "file_extension": ".py",
   "mimetype": "text/x-python",
   "name": "python",
   "nbconvert_exporter": "python",
   "pygments_lexer": "ipython3",
   "version": "3.11.6"
  }
 },
 "nbformat": 4,
 "nbformat_minor": 5
}
