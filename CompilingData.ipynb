{
 "cells": [
  {
   "cell_type": "code",
   "execution_count": 1,
   "id": "c411fc45-2257-4ce3-9a92-efa6f0137f44",
   "metadata": {},
   "outputs": [],
   "source": [
    "import pandas as pd\n",
    "import numpy as np"
   ]
  },
  {
   "cell_type": "code",
   "execution_count": 2,
   "id": "db63ddc9-91db-47ed-9c64-8c073e92da18",
   "metadata": {},
   "outputs": [],
   "source": [
    "csv2010 = pd.read_csv(\"new csv files/court_cases_links - 2010.csv\")\n",
    "csv2011 = pd.read_csv(\"new csv files/court_cases_links - 2011.csv\")\n",
    "csv2012 = pd.read_csv(\"new csv files/court_cases_links - 2012.csv\")\n",
    "csv2013 = pd.read_csv(\"new csv files/court_cases_links - 2013.csv\")\n",
    "csv2014 = pd.read_csv(\"new csv files/court_cases_links - 2014.csv\")"
   ]
  },
  {
   "cell_type": "code",
   "execution_count": 3,
   "id": "577daed8-4b0b-42c9-8742-1da42324350d",
   "metadata": {},
   "outputs": [],
   "source": [
    "csv2010.dropna(subset=['Issue'], inplace=True)\n",
    "csv2011.dropna(subset=['Issue'], inplace=True)\n",
    "csv2012.dropna(subset=['Issue'], inplace=True)\n",
    "csv2013.dropna(subset=['Issue'], inplace=True)\n",
    "csv2014.dropna(subset=['Issue'], inplace=True)"
   ]
  },
  {
   "cell_type": "code",
   "execution_count": 4,
   "id": "fc2cb183-3add-436a-8e55-405d52fe66be",
   "metadata": {},
   "outputs": [],
   "source": [
    "csv2010.rename(columns={'Issue': 'issues'}, inplace=True, errors='raise')\n",
    "csv2011.rename(columns={'Issue': 'issues'}, inplace=True, errors='raise')\n",
    "csv2012.rename(columns={'Issue': 'issues'}, inplace=True, errors='raise')\n",
    "csv2013.rename(columns={'Issue': 'issues'}, inplace=True, errors='raise')\n",
    "csv2014.rename(columns={'Issue': 'issues'}, inplace=True, errors='raise')"
   ]
  },
  {
   "cell_type": "code",
   "execution_count": 5,
   "id": "7ac575d2-e0ef-44c4-9b63-9acbe43b0674",
   "metadata": {},
   "outputs": [],
   "source": [
    "csv2010['facts'] = 'xy'\n",
    "csv2010['ruling'] = 'xy'\n",
    "csv2011['facts'] = 'xy'\n",
    "csv2011['ruling'] = 'xy'\n",
    "csv2012['facts'] = 'xy'\n",
    "csv2012['ruling'] = 'xy'\n",
    "csv2013['facts'] = 'xy'\n",
    "csv2013['ruling'] = 'xy'\n",
    "csv2014['facts'] = 'xy'\n",
    "csv2014['ruling'] = 'xy'"
   ]
  },
  {
   "cell_type": "code",
   "execution_count": 7,
   "id": "1373ccf9-f8a9-41f3-9db5-0b8c144556e9",
   "metadata": {},
   "outputs": [],
   "source": [
    "csv2010 = csv2010[['issues', 'facts', 'ruling']]\n",
    "csv2011 = csv2011[['issues', 'facts', 'ruling']]\n",
    "csv2012 = csv2012[['issues', 'facts', 'ruling']]\n",
    "csv2013 = csv2013[['issues', 'facts', 'ruling']]\n",
    "csv2014 = csv2014[['issues', 'facts', 'ruling']]"
   ]
  },
  {
   "cell_type": "code",
   "execution_count": 11,
   "id": "0d36494b-f03c-4996-b7d2-68595ee488c1",
   "metadata": {},
   "outputs": [],
   "source": [
    "allcsv = pd.concat([csv2010, csv2011, csv2012, csv2013, csv2014], axis=0, ignore_index=True)"
   ]
  },
  {
   "cell_type": "code",
   "execution_count": 12,
   "id": "8601f137-61f3-4ea5-a9a7-44996d5fceeb",
   "metadata": {},
   "outputs": [
    {
     "data": {
      "text/plain": [
       "544"
      ]
     },
     "execution_count": 12,
     "metadata": {},
     "output_type": "execute_result"
    }
   ],
   "source": [
    "len(allcsv)"
   ]
  },
  {
   "cell_type": "code",
   "execution_count": 13,
   "id": "a1142eba-2ba4-4123-abda-e03f693c8164",
   "metadata": {},
   "outputs": [
    {
     "data": {
      "text/html": [
       "<div>\n",
       "<style scoped>\n",
       "    .dataframe tbody tr th:only-of-type {\n",
       "        vertical-align: middle;\n",
       "    }\n",
       "\n",
       "    .dataframe tbody tr th {\n",
       "        vertical-align: top;\n",
       "    }\n",
       "\n",
       "    .dataframe thead th {\n",
       "        text-align: right;\n",
       "    }\n",
       "</style>\n",
       "<table border=\"1\" class=\"dataframe\">\n",
       "  <thead>\n",
       "    <tr style=\"text-align: right;\">\n",
       "      <th></th>\n",
       "      <th>issues</th>\n",
       "      <th>facts</th>\n",
       "      <th>ruling</th>\n",
       "    </tr>\n",
       "  </thead>\n",
       "  <tbody>\n",
       "    <tr>\n",
       "      <th>0</th>\n",
       "      <td>The Issue\\r\\nThe question is whether an employ...</td>\n",
       "      <td>xy</td>\n",
       "      <td>xy</td>\n",
       "    </tr>\n",
       "    <tr>\n",
       "      <th>1</th>\n",
       "      <td>The Issue\\r\\n\\r\\nThe sole issue raised in this...</td>\n",
       "      <td>xy</td>\n",
       "      <td>xy</td>\n",
       "    </tr>\n",
       "    <tr>\n",
       "      <th>2</th>\n",
       "      <td>Hence, the instant petition raising the follow...</td>\n",
       "      <td>xy</td>\n",
       "      <td>xy</td>\n",
       "    </tr>\n",
       "    <tr>\n",
       "      <th>3</th>\n",
       "      <td>Consequently, petitioners filed the instant pe...</td>\n",
       "      <td>xy</td>\n",
       "      <td>xy</td>\n",
       "    </tr>\n",
       "    <tr>\n",
       "      <th>4</th>\n",
       "      <td>The Issues\\r\\nWHETHER OR NOT RESPONDENTS WERE ...</td>\n",
       "      <td>xy</td>\n",
       "      <td>xy</td>\n",
       "    </tr>\n",
       "  </tbody>\n",
       "</table>\n",
       "</div>"
      ],
      "text/plain": [
       "                                              issues facts ruling\n",
       "0  The Issue\\r\\nThe question is whether an employ...    xy     xy\n",
       "1  The Issue\\r\\n\\r\\nThe sole issue raised in this...    xy     xy\n",
       "2  Hence, the instant petition raising the follow...    xy     xy\n",
       "3  Consequently, petitioners filed the instant pe...    xy     xy\n",
       "4  The Issues\\r\\nWHETHER OR NOT RESPONDENTS WERE ...    xy     xy"
      ]
     },
     "execution_count": 13,
     "metadata": {},
     "output_type": "execute_result"
    }
   ],
   "source": [
    "allcsv.head()"
   ]
  },
  {
   "cell_type": "code",
   "execution_count": 14,
   "id": "f8d6a7e9-8e27-43ce-ae98-a2bed06f6b39",
   "metadata": {},
   "outputs": [],
   "source": [
    "allcsv.to_csv(\"csv_files/new_issues.csv\")"
   ]
  },
  {
   "cell_type": "code",
   "execution_count": null,
   "id": "3af7a189-9c49-4adf-9940-0879ce8ba06b",
   "metadata": {},
   "outputs": [],
   "source": []
  }
 ],
 "metadata": {
  "kernelspec": {
   "display_name": "Python 3 (ipykernel)",
   "language": "python",
   "name": "python3"
  },
  "language_info": {
   "codemirror_mode": {
    "name": "ipython",
    "version": 3
   },
   "file_extension": ".py",
   "mimetype": "text/x-python",
   "name": "python",
   "nbconvert_exporter": "python",
   "pygments_lexer": "ipython3",
   "version": "3.11.6"
  }
 },
 "nbformat": 4,
 "nbformat_minor": 5
}
