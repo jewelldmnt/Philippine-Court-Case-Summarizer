{
 "cells": [
  {
   "cell_type": "code",
   "execution_count": 1,
   "id": "6d5a9f36-c560-46d5-b0ce-832c4d92f7d2",
   "metadata": {},
   "outputs": [
    {
     "name": "stdout",
     "output_type": "stream",
     "text": [
      "WARNING:tensorflow:From C:\\Users\\mdfl0\\AppData\\Roaming\\Python\\Python311\\site-packages\\tf_keras\\src\\losses.py:2976: The name tf.losses.sparse_softmax_cross_entropy is deprecated. Please use tf.compat.v1.losses.sparse_softmax_cross_entropy instead.\n",
      "\n"
     ]
    }
   ],
   "source": [
    "from preprocessing_v3 import *\n",
    "from modelling import *\n",
    "from visualization import *"
   ]
  },
  {
   "cell_type": "markdown",
   "id": "bda45468-2120-462a-b20d-c1008d6139c9",
   "metadata": {},
   "source": [
    "# Preprocessing"
   ]
  },
  {
   "cell_type": "code",
   "execution_count": 2,
   "id": "519b181c-dad5-4367-9dea-8701ba082e30",
   "metadata": {},
   "outputs": [
    {
     "name": "stdout",
     "output_type": "stream",
     "text": [
      "label\n",
      "1    30\n",
      "0    30\n",
      "2    30\n",
      "Name: count, dtype: int64\n",
      "Preprocessing Done!\n",
      "Added 36773 new tokens\n",
      "\n",
      "Found Unknown Token!\n",
      "Configured Model!\n"
     ]
    },
    {
     "data": {
      "application/vnd.jupyter.widget-view+json": {
       "model_id": "6c6e6e84fc614853b2da713959e08a21",
       "version_major": 2,
       "version_minor": 0
      },
      "text/plain": [
       "Map:   0%|          | 0/81 [00:00<?, ? examples/s]"
      ]
     },
     "metadata": {},
     "output_type": "display_data"
    },
    {
     "data": {
      "application/vnd.jupyter.widget-view+json": {
       "model_id": "619fe9a1013b4556bff30d65e6b68c5c",
       "version_major": 2,
       "version_minor": 0
      },
      "text/plain": [
       "Map:   0%|          | 0/9 [00:00<?, ? examples/s]"
      ]
     },
     "metadata": {},
     "output_type": "display_data"
    },
    {
     "name": "stdout",
     "output_type": "stream",
     "text": [
      "Prepared Data for LED Model!\n"
     ]
    }
   ],
   "source": [
    "# Prepare the data, model, and tokenizer before training\n",
    "preprocessor = preprocess('court_cases_headings_labels.csv')\n",
    "preprocessor.prepare_LED_data()"
   ]
  },
  {
   "cell_type": "code",
   "execution_count": 3,
   "id": "0b51f55b-2897-47cd-974d-8670c8b46b5a",
   "metadata": {},
   "outputs": [
    {
     "name": "stdout",
     "output_type": "stream",
     "text": [
      "Model configuration:  BartConfig {\n",
      "  \"_name_or_path\": \"facebook/bart-base\",\n",
      "  \"activation_dropout\": 0.1,\n",
      "  \"activation_function\": \"gelu\",\n",
      "  \"add_bias_logits\": false,\n",
      "  \"add_final_layer_norm\": false,\n",
      "  \"architectures\": [\n",
      "    \"BartModel\"\n",
      "  ],\n",
      "  \"attention_dropout\": 0.1,\n",
      "  \"bos_token_id\": 0,\n",
      "  \"classif_dropout\": 0.1,\n",
      "  \"classifier_dropout\": 0.0,\n",
      "  \"d_model\": 768,\n",
      "  \"decoder_attention_heads\": 12,\n",
      "  \"decoder_ffn_dim\": 3072,\n",
      "  \"decoder_layerdrop\": 0.0,\n",
      "  \"decoder_layers\": 6,\n",
      "  \"decoder_start_token_id\": 2,\n",
      "  \"dropout\": 0.1,\n",
      "  \"encoder_attention_heads\": 12,\n",
      "  \"encoder_ffn_dim\": 3072,\n",
      "  \"encoder_layerdrop\": 0.0,\n",
      "  \"encoder_layers\": 6,\n",
      "  \"eos_token_id\": 2,\n",
      "  \"forced_eos_token_id\": 2,\n",
      "  \"gradient_checkpointing\": false,\n",
      "  \"id2label\": {\n",
      "    \"0\": \"rulings\",\n",
      "    \"1\": \"facts\",\n",
      "    \"2\": \"issues\"\n",
      "  },\n",
      "  \"init_std\": 0.02,\n",
      "  \"is_encoder_decoder\": true,\n",
      "  \"label2id\": {\n",
      "    \"facts\": 1,\n",
      "    \"issues\": 2,\n",
      "    \"rulings\": 0\n",
      "  },\n",
      "  \"max_position_embeddings\": 128,\n",
      "  \"model_type\": \"bart\",\n",
      "  \"normalize_before\": false,\n",
      "  \"normalize_embedding\": true,\n",
      "  \"num_hidden_layers\": 6,\n",
      "  \"pad_token_id\": 1,\n",
      "  \"problem_type\": \"single_label_classification\",\n",
      "  \"scale_embedding\": false,\n",
      "  \"task_specific_params\": {\n",
      "    \"summarization\": {\n",
      "      \"length_penalty\": 1.0,\n",
      "      \"max_length\": 128,\n",
      "      \"min_length\": 12,\n",
      "      \"num_beams\": 4\n",
      "    },\n",
      "    \"summarization_cnn\": {\n",
      "      \"length_penalty\": 2.0,\n",
      "      \"max_length\": 142,\n",
      "      \"min_length\": 56,\n",
      "      \"num_beams\": 4\n",
      "    },\n",
      "    \"summarization_xsum\": {\n",
      "      \"length_penalty\": 1.0,\n",
      "      \"max_length\": 62,\n",
      "      \"min_length\": 11,\n",
      "      \"num_beams\": 6\n",
      "    }\n",
      "  },\n",
      "  \"torch_dtype\": \"float32\",\n",
      "  \"transformers_version\": \"4.45.0\",\n",
      "  \"use_cache\": true,\n",
      "  \"vocab_size\": 87038\n",
      "}\n",
      "\n"
     ]
    }
   ],
   "source": [
    "BART_model, BART_tokenizer, train_data, eval_data = preprocessor.return_model_tokenizer_data()"
   ]
  },
  {
   "cell_type": "markdown",
   "id": "b1563998-842d-4944-b628-cbd642f1379a",
   "metadata": {
    "jp-MarkdownHeadingCollapsed": true
   },
   "source": [
    "# Visualization\n",
    "\n",
    "## code at work"
   ]
  },
  {
   "cell_type": "code",
   "execution_count": null,
   "id": "32cf20e4-86ae-4f73-b9ae-53d614804652",
   "metadata": {},
   "outputs": [],
   "source": [
    "visualizer = visualization"
   ]
  },
  {
   "cell_type": "code",
   "execution_count": null,
   "id": "99892c6c-bb3c-4148-ab40-107fab5dfc43",
   "metadata": {},
   "outputs": [],
   "source": [
    "visualizer.wordcloud(court)"
   ]
  },
  {
   "cell_type": "code",
   "execution_count": null,
   "id": "9c1aba60-32a3-4259-9826-5c9ba5d07849",
   "metadata": {},
   "outputs": [],
   "source": [
    "visualizer.plot_top_tokens(court)"
   ]
  },
  {
   "cell_type": "code",
   "execution_count": null,
   "id": "058f8476-c8c6-4deb-9905-8af467485b16",
   "metadata": {},
   "outputs": [],
   "source": [
    "visualizer.plot_token_counts(ruling, issues, facts)"
   ]
  },
  {
   "cell_type": "code",
   "execution_count": null,
   "id": "6e45e45b-ba85-49e6-bc3f-5b463041f938",
   "metadata": {},
   "outputs": [],
   "source": [
    "visualizer.average_token_length(court)"
   ]
  },
  {
   "cell_type": "code",
   "execution_count": null,
   "id": "75a7ed7f-c1f1-4fdd-a310-476bc4b10f71",
   "metadata": {},
   "outputs": [],
   "source": [
    "visualizer.average_token_length(ruling)"
   ]
  },
  {
   "cell_type": "code",
   "execution_count": null,
   "id": "5e1eab5e-1205-4f53-86ba-30118c1f4fc9",
   "metadata": {},
   "outputs": [],
   "source": [
    "visualizer.average_token_length(issues)"
   ]
  },
  {
   "cell_type": "code",
   "execution_count": null,
   "id": "2eb1169c-366f-4813-b511-112c9ba80375",
   "metadata": {},
   "outputs": [],
   "source": [
    "visualizer.average_token_length(facts)"
   ]
  },
  {
   "cell_type": "code",
   "execution_count": null,
   "id": "e0531f26-b165-4772-b64a-b59b64235a88",
   "metadata": {},
   "outputs": [],
   "source": [
    "visualizer.print_average(ruling, issues, facts)"
   ]
  },
  {
   "cell_type": "markdown",
   "id": "0f60d6a1-4d56-4380-8e59-127eed6ee57e",
   "metadata": {},
   "source": [
    "# Modelling"
   ]
  },
  {
   "cell_type": "code",
   "execution_count": 4,
   "id": "0d60ab15-2ffd-460b-8f4c-cd72850b65d7",
   "metadata": {},
   "outputs": [
    {
     "data": {
      "text/html": [
       "\n",
       "    <div>\n",
       "      \n",
       "      <progress value='5' max='5' style='width:300px; height:20px; vertical-align: middle;'></progress>\n",
       "      [5/5 01:00, Epoch 0/1]\n",
       "    </div>\n",
       "    <table border=\"1\" class=\"dataframe\">\n",
       "  <thead>\n",
       " <tr style=\"text-align: left;\">\n",
       "      <th>Step</th>\n",
       "      <th>Training Loss</th>\n",
       "      <th>Validation Loss</th>\n",
       "    </tr>\n",
       "  </thead>\n",
       "  <tbody>\n",
       "  </tbody>\n",
       "</table><p>"
      ],
      "text/plain": [
       "<IPython.core.display.HTML object>"
      ]
     },
     "metadata": {},
     "output_type": "display_data"
    }
   ],
   "source": [
    "modeller = Modelling(train_data, eval_data, BART_tokenizer, BART_model)\n",
    "modeller.train_model()"
   ]
  },
  {
   "cell_type": "code",
   "execution_count": 5,
   "id": "24117000-987e-4240-80f1-8a50b27b8cd9",
   "metadata": {},
   "outputs": [
    {
     "name": "stdout",
     "output_type": "stream",
     "text": [
      "Accuracy: 0.1111\n",
      "F1 Score: 0.0278\n",
      "Recall: 0.1111\n"
     ]
    },
    {
     "data": {
      "image/png": "[encoded data removed]",
      "text/plain": [
       "<Figure size 800x600 with 2 Axes>"
      ]
     },
     "metadata": {},
     "output_type": "display_data"
    }
   ],
   "source": [
    "modeller.calc_accuracy()"
   ]
  },
  {
   "cell_type": "code",
   "execution_count": null,
   "id": "54cc812c-481b-4ab6-a8bd-86d9a25a7491",
   "metadata": {},
   "outputs": [],
   "source": [
    "#end of main"
   ]
  }
 ],
 "metadata": {
  "kernelspec": {
   "display_name": "Python 3 (ipykernel)",
   "language": "python",
   "name": "python3"
  },
  "language_info": {
   "codemirror_mode": {
    "name": "ipython",
    "version": 3
   },
   "file_extension": ".py",
   "mimetype": "text/x-python",
   "name": "python",
   "nbconvert_exporter": "python",
   "pygments_lexer": "ipython3",
   "version": "3.11.6"
  }
 },
 "nbformat": 4,
 "nbformat_minor": 5
}
