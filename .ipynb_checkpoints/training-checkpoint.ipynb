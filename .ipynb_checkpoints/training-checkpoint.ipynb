{
 "cells": [
  {
   "cell_type": "code",
   "execution_count": 3,
   "id": "30bb814a-c5c7-4796-aae8-7d7000dda8a3",
   "metadata": {},
   "outputs": [],
   "source": [
    "from TopicSegmentation import LegalBert, ModifiedStandardDecoder\n",
    "import tensorflow as tf\n",
    "from tensorflow.keras.preprocessing.text import Tokenizer\n",
    "from tensorflow.keras.preprocessing.sequence import pad_sequences\n",
    "import pandas as pd"
   ]
  },
  {
   "cell_type": "markdown",
   "id": "d69bf1ed-f6f4-424d-abc9-7db60b5fa6d3",
   "metadata": {},
   "source": [
    "# Instantiate Model Architecture"
   ]
  },
  {
   "cell_type": "code",
   "execution_count": 4,
   "id": "9c1b1e0f-48a2-490b-a3f0-a67ae57af762",
   "metadata": {},
   "outputs": [],
   "source": [
    "# Example usage\n",
    "vocab_size = 5000\n",
    "embedding_dim = 768\n",
    "num_heads = 8\n",
    "ff_dim = 512\n",
    "dropout_rate = 0.1"
   ]
  },
  {
   "cell_type": "code",
   "execution_count": 5,
   "id": "75ec980c-9c48-4751-a9e1-b8e1bf1c8f01",
   "metadata": {},
   "outputs": [
    {
     "name": "stdout",
     "output_type": "stream",
     "text": [
      "Tensor(\"positional_encoding_1_1/add:0\", shape=(None, None, 768), dtype=float32)\n",
      "Tensor(\"positional_encoding_1_1/add:0\", shape=(None, None, 768), dtype=float32)\n"
     ]
    },
    {
     "data": {
      "text/html": [
       "<pre style=\"white-space:pre;overflow-x:auto;line-height:normal;font-family:Menlo,'DejaVu Sans Mono',consolas,'Courier New',monospace\"><span style=\"font-weight: bold\">Model: \"functional_9\"</span>\n",
       "</pre>\n"
      ],
      "text/plain": [
       "\u001b[1mModel: \"functional_9\"\u001b[0m\n"
      ]
     },
     "metadata": {},
     "output_type": "display_data"
    },
    {
     "data": {
      "text/html": [
       "<pre style=\"white-space:pre;overflow-x:auto;line-height:normal;font-family:Menlo,'DejaVu Sans Mono',consolas,'Courier New',monospace\">┏━━━━━━━━━━━━━━━━━━━━━━━━━━━━━━━┳━━━━━━━━━━━━━━━━━━━━━━━━━━━┳━━━━━━━━━━━━━━━━━┳━━━━━━━━━━━━━━━━━━━━━━━━━━━━┓\n",
       "┃<span style=\"font-weight: bold\"> Layer (type)                  </span>┃<span style=\"font-weight: bold\"> Output Shape              </span>┃<span style=\"font-weight: bold\">         Param # </span>┃<span style=\"font-weight: bold\"> Connected to               </span>┃\n",
       "┡━━━━━━━━━━━━━━━━━━━━━━━━━━━━━━━╇━━━━━━━━━━━━━━━━━━━━━━━━━━━╇━━━━━━━━━━━━━━━━━╇━━━━━━━━━━━━━━━━━━━━━━━━━━━━┩\n",
       "│ input_layer_3 (<span style=\"color: #0087ff; text-decoration-color: #0087ff\">InputLayer</span>)    │ (<span style=\"color: #00d7ff; text-decoration-color: #00d7ff\">None</span>, <span style=\"color: #00d7ff; text-decoration-color: #00d7ff\">None</span>)              │               <span style=\"color: #00af00; text-decoration-color: #00af00\">0</span> │ -                          │\n",
       "├───────────────────────────────┼───────────────────────────┼─────────────────┼────────────────────────────┤\n",
       "│ input_layer_4 (<span style=\"color: #0087ff; text-decoration-color: #0087ff\">InputLayer</span>)    │ (<span style=\"color: #00d7ff; text-decoration-color: #00d7ff\">None</span>, <span style=\"color: #00d7ff; text-decoration-color: #00d7ff\">None</span>, <span style=\"color: #00af00; text-decoration-color: #00af00\">768</span>)         │               <span style=\"color: #00af00; text-decoration-color: #00af00\">0</span> │ -                          │\n",
       "├───────────────────────────────┼───────────────────────────┼─────────────────┼────────────────────────────┤\n",
       "│ modified_standard_decoder_1   │ (<span style=\"color: #00d7ff; text-decoration-color: #00d7ff\">None</span>, <span style=\"color: #00d7ff; text-decoration-color: #00d7ff\">None</span>, <span style=\"color: #00af00; text-decoration-color: #00af00\">5000</span>)        │      <span style=\"color: #00af00; text-decoration-color: #00af00\">46,264,456</span> │ input_layer_3[<span style=\"color: #00af00; text-decoration-color: #00af00\">0</span>][<span style=\"color: #00af00; text-decoration-color: #00af00\">0</span>],       │\n",
       "│ (<span style=\"color: #0087ff; text-decoration-color: #0087ff\">ModifiedStandardDecoder</span>)     │                           │                 │ input_layer_4[<span style=\"color: #00af00; text-decoration-color: #00af00\">0</span>][<span style=\"color: #00af00; text-decoration-color: #00af00\">0</span>]        │\n",
       "└───────────────────────────────┴───────────────────────────┴─────────────────┴────────────────────────────┘\n",
       "</pre>\n"
      ],
      "text/plain": [
       "┏━━━━━━━━━━━━━━━━━━━━━━━━━━━━━━━┳━━━━━━━━━━━━━━━━━━━━━━━━━━━┳━━━━━━━━━━━━━━━━━┳━━━━━━━━━━━━━━━━━━━━━━━━━━━━┓\n",
       "┃\u001b[1m \u001b[0m\u001b[1mLayer (type)                 \u001b[0m\u001b[1m \u001b[0m┃\u001b[1m \u001b[0m\u001b[1mOutput Shape             \u001b[0m\u001b[1m \u001b[0m┃\u001b[1m \u001b[0m\u001b[1m        Param #\u001b[0m\u001b[1m \u001b[0m┃\u001b[1m \u001b[0m\u001b[1mConnected to              \u001b[0m\u001b[1m \u001b[0m┃\n",
       "┡━━━━━━━━━━━━━━━━━━━━━━━━━━━━━━━╇━━━━━━━━━━━━━━━━━━━━━━━━━━━╇━━━━━━━━━━━━━━━━━╇━━━━━━━━━━━━━━━━━━━━━━━━━━━━┩\n",
       "│ input_layer_3 (\u001b[38;5;33mInputLayer\u001b[0m)    │ (\u001b[38;5;45mNone\u001b[0m, \u001b[38;5;45mNone\u001b[0m)              │               \u001b[38;5;34m0\u001b[0m │ -                          │\n",
       "├───────────────────────────────┼───────────────────────────┼─────────────────┼────────────────────────────┤\n",
       "│ input_layer_4 (\u001b[38;5;33mInputLayer\u001b[0m)    │ (\u001b[38;5;45mNone\u001b[0m, \u001b[38;5;45mNone\u001b[0m, \u001b[38;5;34m768\u001b[0m)         │               \u001b[38;5;34m0\u001b[0m │ -                          │\n",
       "├───────────────────────────────┼───────────────────────────┼─────────────────┼────────────────────────────┤\n",
       "│ modified_standard_decoder_1   │ (\u001b[38;5;45mNone\u001b[0m, \u001b[38;5;45mNone\u001b[0m, \u001b[38;5;34m5000\u001b[0m)        │      \u001b[38;5;34m46,264,456\u001b[0m │ input_layer_3[\u001b[38;5;34m0\u001b[0m][\u001b[38;5;34m0\u001b[0m],       │\n",
       "│ (\u001b[38;5;33mModifiedStandardDecoder\u001b[0m)     │                           │                 │ input_layer_4[\u001b[38;5;34m0\u001b[0m][\u001b[38;5;34m0\u001b[0m]        │\n",
       "└───────────────────────────────┴───────────────────────────┴─────────────────┴────────────────────────────┘\n"
      ]
     },
     "metadata": {},
     "output_type": "display_data"
    },
    {
     "data": {
      "text/html": [
       "<pre style=\"white-space:pre;overflow-x:auto;line-height:normal;font-family:Menlo,'DejaVu Sans Mono',consolas,'Courier New',monospace\"><span style=\"font-weight: bold\"> Total params: </span><span style=\"color: #00af00; text-decoration-color: #00af00\">46,264,456</span> (176.48 MB)\n",
       "</pre>\n"
      ],
      "text/plain": [
       "\u001b[1m Total params: \u001b[0m\u001b[38;5;34m46,264,456\u001b[0m (176.48 MB)\n"
      ]
     },
     "metadata": {},
     "output_type": "display_data"
    },
    {
     "data": {
      "text/html": [
       "<pre style=\"white-space:pre;overflow-x:auto;line-height:normal;font-family:Menlo,'DejaVu Sans Mono',consolas,'Courier New',monospace\"><span style=\"font-weight: bold\"> Trainable params: </span><span style=\"color: #00af00; text-decoration-color: #00af00\">46,264,456</span> (176.48 MB)\n",
       "</pre>\n"
      ],
      "text/plain": [
       "\u001b[1m Trainable params: \u001b[0m\u001b[38;5;34m46,264,456\u001b[0m (176.48 MB)\n"
      ]
     },
     "metadata": {},
     "output_type": "display_data"
    },
    {
     "data": {
      "text/html": [
       "<pre style=\"white-space:pre;overflow-x:auto;line-height:normal;font-family:Menlo,'DejaVu Sans Mono',consolas,'Courier New',monospace\"><span style=\"font-weight: bold\"> Non-trainable params: </span><span style=\"color: #00af00; text-decoration-color: #00af00\">0</span> (0.00 B)\n",
       "</pre>\n"
      ],
      "text/plain": [
       "\u001b[1m Non-trainable params: \u001b[0m\u001b[38;5;34m0\u001b[0m (0.00 B)\n"
      ]
     },
     "metadata": {},
     "output_type": "display_data"
    }
   ],
   "source": [
    "decoder = ModifiedStandardDecoder(vocab_size, embedding_dim, num_heads, ff_dim, dropout_rate)\n",
    "\n",
    "annotated_inputs = tf.keras.Input(shape=(None,))\n",
    "encoder_outputs = tf.keras.Input(shape=(None, embedding_dim))\n",
    "\n",
    "padding_mask = None  # Add padding mask if necessary\n",
    "\n",
    "outputs = decoder(annotated_inputs, encoder_outputs, padding_mask=padding_mask)\n",
    "model_ruling = tf.keras.Model(inputs=[annotated_inputs, encoder_outputs], outputs=outputs) # model for ruling\n",
    "model_facts = tf.keras.Model(inputs=[annotated_inputs, encoder_outputs], outputs=outputs) # model for facts\n",
    "model_issues = tf.keras.Model(inputs=[annotated_inputs, encoder_outputs], outputs=outputs) # model for issues\n",
    "\n",
    "model_ruling.summary()"
   ]
  },
  {
   "cell_type": "markdown",
   "id": "ef3e0284-aa19-4646-a9bd-1888ec276556",
   "metadata": {},
   "source": [
    "# Load Data"
   ]
  },
  {
   "cell_type": "code",
   "execution_count": 9,
   "id": "b7afa553-9bde-4703-8b09-40f2097fec69",
   "metadata": {},
   "outputs": [],
   "source": [
    "df = pd.read_csv('court.csv')\n",
    "\n",
    "df = df.iloc[:,2:]\n",
    "\n",
    "df.dropna(inplace=True)\n",
    "\n",
    "court_case = df['court case'].to_list()\n",
    "ruling = df['rulings'].to_list()\n",
    "facts = df['facts'].to_list()\n",
    "issues = df['issues'].to_list()"
   ]
  },
  {
   "cell_type": "markdown",
   "id": "bc345392-078f-4c78-9102-661b2ebaf8af",
   "metadata": {},
   "source": [
    "# Preprocess Data"
   ]
  },
  {
   "cell_type": "markdown",
   "id": "1fbd8d10-bcc7-454b-bdd6-ebaa75dcb89e",
   "metadata": {},
   "source": [
    "## Instantiate preprocessor and encoder"
   ]
  },
  {
   "cell_type": "code",
   "execution_count": 10,
   "id": "3a4160e5-274d-4d2d-855b-4773d98cbc35",
   "metadata": {},
   "outputs": [],
   "source": [
    "# Initialize the preprocessor and legal BERT\n",
    "legal_bert = LegalBert()\n",
    "\n",
    "bert_output = legal_bert.get_context_vectors(court_case)"
   ]
  },
  {
   "cell_type": "markdown",
   "id": "c3db9472-76d0-4537-9b77-31d7332dae3b",
   "metadata": {},
   "source": [
    "## Tokenize and add paddings to each data for each model"
   ]
  },
  {
   "cell_type": "code",
   "execution_count": 11,
   "id": "4077aeb3-886a-4cfa-a92f-321bca28888f",
   "metadata": {},
   "outputs": [],
   "source": [
    "# Tokenize the ruling segments\n",
    "tokenizer_ruling = Tokenizer(num_words=5000)  # Adjust num_words according to your vocabulary size\n",
    "tokenizer_ruling.fit_on_texts(ruling)\n",
    "tokenized_segments_ruling = tokenizer_ruling.texts_to_sequences(ruling)\n",
    "\n",
    "# Tokenize the facts segments\n",
    "tokenizer_facts = Tokenizer(num_words=5000)  # Adjust num_words according to your vocabulary size\n",
    "tokenizer_facts.fit_on_texts(facts)\n",
    "tokenized_segments_facts = tokenizer_facts.texts_to_sequences(facts)\n",
    "\n",
    "# Tokenize the issues segments\n",
    "tokenizer_issues = Tokenizer(num_words=5000)  # Adjust num_words according to your vocabulary size\n",
    "tokenizer_issues.fit_on_texts(issues)\n",
    "tokenized_segments_issues = tokenizer_issues.texts_to_sequences(issues)\n",
    "\n",
    "# Max sequence length of all padding\n",
    "max_seq_len = min(bert_output.shape[1], 512)\n",
    "\n",
    "# Pad the sequences to ensure uniform length\n",
    "padded_segments_ruling = pad_sequences(tokenized_segments_ruling, padding='post', maxlen=max_seq_len)\n",
    "padded_segments_facts = pad_sequences(tokenized_segments_facts, padding='post', maxlen=max_seq_len)\n",
    "padded_segments_issues = pad_sequences(tokenized_segments_issues, padding='post', maxlen=max_seq_len)\n",
    "\n",
    "# Convert to tensor\n",
    "padded_segments_ruling = tf.convert_to_tensor(padded_segments_ruling)\n",
    "padded_segments_facts = tf.convert_to_tensor(padded_segments_facts)\n",
    "padded_segments_issues = tf.convert_to_tensor(padded_segments_issues)\n",
    "\n",
    "xtrain = bert_output.detach().numpy() # all segment has the same x data but different y data\n",
    "ytrain_ruling = padded_segments_ruling\n",
    "ytrain_facts = padded_segments_facts\n",
    "ytrain_issues = padded_segments_issues"
   ]
  },
  {
   "cell_type": "markdown",
   "id": "db25e303-92ee-4ce1-af65-06e223bb0bd6",
   "metadata": {},
   "source": [
    "# Train Models"
   ]
  },
  {
   "cell_type": "code",
   "execution_count": 12,
   "id": "b0389dd2-8151-4843-b4f7-ab6565dd4889",
   "metadata": {},
   "outputs": [
    {
     "name": "stdout",
     "output_type": "stream",
     "text": [
      "Epoch 1/3\n",
      "Tensor(\"functional_9_1/modified_standard_decoder_1_1/dropout_7_1/stateless_dropout/SelectV2:0\", shape=(None, 512, 768), dtype=float32)\n",
      "Tensor(\"functional_9_1/modified_standard_decoder_1_1/dropout_7_1/stateless_dropout/SelectV2:0\", shape=(None, 512, 768), dtype=float32)\n",
      "\u001b[1m1/1\u001b[0m \u001b[32m━━━━━━━━━━━━━━━━━━━━\u001b[0m\u001b[37m\u001b[0m \u001b[1m45s\u001b[0m 45s/step - accuracy: 0.0000e+00 - loss: 8.6397\n",
      "Epoch 2/3\n",
      "\u001b[1m1/1\u001b[0m \u001b[32m━━━━━━━━━━━━━━━━━━━━\u001b[0m\u001b[37m\u001b[0m \u001b[1m11s\u001b[0m 11s/step - accuracy: 0.1782 - loss: 7.8582\n",
      "Epoch 3/3\n",
      "\u001b[1m1/1\u001b[0m \u001b[32m━━━━━━━━━━━━━━━━━━━━\u001b[0m\u001b[37m\u001b[0m \u001b[1m10s\u001b[0m 10s/step - accuracy: 0.1810 - loss: 7.2958\n",
      "Epoch 1/3\n",
      "Tensor(\"functional_11_1/modified_standard_decoder_1_1/dropout_7_1/stateless_dropout/SelectV2:0\", shape=(None, 512, 768), dtype=float32)\n",
      "Tensor(\"functional_11_1/modified_standard_decoder_1_1/dropout_7_1/stateless_dropout/SelectV2:0\", shape=(None, 512, 768), dtype=float32)\n",
      "\u001b[1m1/1\u001b[0m \u001b[32m━━━━━━━━━━━━━━━━━━━━\u001b[0m\u001b[37m\u001b[0m \u001b[1m13s\u001b[0m 13s/step - accuracy: 0.1714 - loss: 7.0997\n",
      "Epoch 2/3\n",
      "\u001b[1m1/1\u001b[0m \u001b[32m━━━━━━━━━━━━━━━━━━━━\u001b[0m\u001b[37m\u001b[0m \u001b[1m10s\u001b[0m 10s/step - accuracy: 0.1714 - loss: 6.8524\n",
      "Epoch 3/3\n",
      "\u001b[1m1/1\u001b[0m \u001b[32m━━━━━━━━━━━━━━━━━━━━\u001b[0m\u001b[37m\u001b[0m \u001b[1m9s\u001b[0m 9s/step - accuracy: 0.1759 - loss: 6.7050\n",
      "Epoch 1/3\n",
      "Tensor(\"functional_13_1/modified_standard_decoder_1_1/dropout_7_1/stateless_dropout/SelectV2:0\", shape=(None, 512, 768), dtype=float32)\n",
      "Tensor(\"functional_13_1/modified_standard_decoder_1_1/dropout_7_1/stateless_dropout/SelectV2:0\", shape=(None, 512, 768), dtype=float32)\n",
      "\u001b[1m1/1\u001b[0m \u001b[32m━━━━━━━━━━━━━━━━━━━━\u001b[0m\u001b[37m\u001b[0m \u001b[1m12s\u001b[0m 12s/step - accuracy: 0.7460 - loss: 2.9952\n",
      "Epoch 2/3\n",
      "\u001b[1m1/1\u001b[0m \u001b[32m━━━━━━━━━━━━━━━━━━━━\u001b[0m\u001b[37m\u001b[0m \u001b[1m9s\u001b[0m 9s/step - accuracy: 0.7459 - loss: 2.5401\n",
      "Epoch 3/3\n",
      "\u001b[1m1/1\u001b[0m \u001b[32m━━━━━━━━━━━━━━━━━━━━\u001b[0m\u001b[37m\u001b[0m \u001b[1m9s\u001b[0m 9s/step - accuracy: 0.7459 - loss: 2.3706\n"
     ]
    }
   ],
   "source": [
    "# Compile the models\n",
    "model_ruling.compile(optimizer=tf.keras.optimizers.RMSprop(learning_rate=1e-4), loss='sparse_categorical_crossentropy', metrics=['accuracy'])\n",
    "model_facts.compile(optimizer=tf.keras.optimizers.RMSprop(learning_rate=1e-4), loss='sparse_categorical_crossentropy', metrics=['accuracy'])\n",
    "model_issues.compile(optimizer=tf.keras.optimizers.RMSprop(learning_rate=1e-4), loss='sparse_categorical_crossentropy', metrics=['accuracy'])\n",
    "\n",
    "# Train all model then save them\n",
    "model_ruling.fit([ytrain_ruling, xtrain], ytrain_ruling, epochs=3)\n",
    "model_ruling.save('ruling.keras')\n",
    "\n",
    "model_facts.fit([ytrain_facts, xtrain], ytrain_facts, epochs=3)\n",
    "model_facts.save('facts.keras')\n",
    "\n",
    "model_issues.fit([ytrain_issues, xtrain], ytrain_issues, epochs=3)\n",
    "model_issues.save('issues.keras')"
   ]
  },
  {
   "cell_type": "code",
   "execution_count": null,
   "id": "73036c01-7d69-473d-b0da-efa5436c443f",
   "metadata": {},
   "outputs": [],
   "source": []
  }
 ],
 "metadata": {
  "kernelspec": {
   "display_name": "Python 3 (ipykernel)",
   "language": "python",
   "name": "python3"
  },
  "language_info": {
   "codemirror_mode": {
    "name": "ipython",
    "version": 3
   },
   "file_extension": ".py",
   "mimetype": "text/x-python",
   "name": "python",
   "nbconvert_exporter": "python",
   "pygments_lexer": "ipython3",
   "version": "3.11.6"
  }
 },
 "nbformat": 4,
 "nbformat_minor": 5
}
