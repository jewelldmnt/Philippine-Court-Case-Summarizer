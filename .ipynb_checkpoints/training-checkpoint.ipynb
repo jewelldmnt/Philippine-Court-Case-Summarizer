{
 "cells": [
  {
   "cell_type": "code",
   "execution_count": 1,
   "id": "6d5a9f36-c560-46d5-b0ce-832c4d92f7d2",
   "metadata": {},
   "outputs": [
    {
     "name": "stderr",
     "output_type": "stream",
     "text": [
      "[nltk_data] Downloading package stopwords to\n",
      "[nltk_data]     C:\\Users\\mdfl0\\AppData\\Roaming\\nltk_data...\n",
      "[nltk_data]   Package stopwords is already up-to-date!\n"
     ]
    },
    {
     "name": "stdout",
     "output_type": "stream",
     "text": [
      "WARNING:tensorflow:From C:\\Users\\mdfl0\\AppData\\Roaming\\Python\\Python311\\site-packages\\tf_keras\\src\\losses.py:2976: The name tf.losses.sparse_softmax_cross_entropy is deprecated. Please use tf.compat.v1.losses.sparse_softmax_cross_entropy instead.\n",
      "\n"
     ]
    }
   ],
   "source": [
    "from Custom_Modules.Preprocess import *\n",
    "from Custom_Modules.Modelling import *\n",
    "from Custom_Modules.visualization import *\n",
    "from Custom_Modules.ModelConfiguration import *"
   ]
  },
  {
   "cell_type": "markdown",
   "id": "bda45468-2120-462a-b20d-c1008d6139c9",
   "metadata": {},
   "source": [
    "# Data Preprocessing"
   ]
  },
  {
   "cell_type": "code",
   "execution_count": 2,
   "id": "519b181c-dad5-4367-9dea-8701ba082e30",
   "metadata": {
    "scrolled": true
   },
   "outputs": [
    {
     "name": "stdout",
     "output_type": "stream",
     "text": [
      "Removing Unnecesary Characters Completed\n",
      "Paragraph Segmentation Completed\n",
      "Removing Noisy Data Completed\n",
      "Tokenization Completed\n",
      "label\n",
      "2    50905\n",
      "0    12202\n",
      "1     3275\n",
      "Name: count, dtype: int64\n",
      "label\n",
      "0    8000\n",
      "2    8000\n",
      "1    8000\n",
      "Name: count, dtype: int64\n",
      "Data Balancing Completed\n"
     ]
    }
   ],
   "source": [
    "# Instantiate the preprocessing class\n",
    "preprocessor = preprocess('full_court_cases.csv', 'short_csv_headings_label.csv')\n",
    "\n",
    "# Remove tokens and characters that are not helpful for the model while doing Paragraph Segmentation\n",
    "preprocessor.paragraph_segmentation()\n",
    "\n",
    "# Remove data that doesnt give that much meaning\n",
    "preprocessor.remove_noisy_data()\n",
    "\n",
    "# Tokenize the text, storing useful tokens and sentences\n",
    "preprocessor.tokenize()\n",
    "\n",
    "# Balance the labels by downsampling the majority classes\n",
    "preprocessor.balance_labels()\n",
    "\n",
    "# Outputs a csv file (labels: \"facts\": 0, \"issues\": 1, \"ruling\": 2)\n",
    "preprocessor.output_csv_file() # add a file name like 'data.csv'"
   ]
  },
  {
   "cell_type": "markdown",
   "id": "8f27de4a",
   "metadata": {},
   "source": [
    "# BART Model Configuration"
   ]
  },
  {
   "cell_type": "code",
   "execution_count": 3,
   "id": "3b0ad03e",
   "metadata": {},
   "outputs": [
    {
     "name": "stdout",
     "output_type": "stream",
     "text": [
      "Model Configuration Completed\n"
     ]
    }
   ],
   "source": [
    "# Instantiate the model configuration class\n",
    "configurer = model_configure()\n",
    "\n",
    "# Configure Model and add unknown tokens to the vocabulary of the tokenizer.\n",
    "configurer.set_model_configuration(preprocessor.sentences_tokens)"
   ]
  },
  {
   "cell_type": "code",
   "execution_count": 4,
   "id": "0b51f55b-2897-47cd-974d-8670c8b46b5a",
   "metadata": {},
   "outputs": [
    {
     "data": {
      "application/vnd.jupyter.widget-view+json": {
       "model_id": "5c0edac6c11a448a93ab65c09b0d8be3",
       "version_major": 2,
       "version_minor": 0
      },
      "text/plain": [
       "Map:   0%|          | 0/21683 [00:00<?, ? examples/s]"
      ]
     },
     "metadata": {},
     "output_type": "display_data"
    },
    {
     "data": {
      "application/vnd.jupyter.widget-view+json": {
       "model_id": "8b17417498e446fca5999353ae2ef42c",
       "version_major": 2,
       "version_minor": 0
      },
      "text/plain": [
       "Map:   0%|          | 0/2410 [00:00<?, ? examples/s]"
      ]
     },
     "metadata": {},
     "output_type": "display_data"
    }
   ],
   "source": [
    "# Return the tokenizer, and model\n",
    "BART_model, BART_tokenizer= configurer.return_model_tokenizer()\n",
    "\n",
    "# Prepare the final format of the data for the BART model\n",
    "preprocessor.prepare_BART_data(BART_tokenizer)\n",
    "\n",
    "# Return the preprocessed data for training\n",
    "train_data, eval_data = preprocessor.return_data()"
   ]
  },
  {
   "cell_type": "code",
   "execution_count": 5,
   "id": "2a32e69a-4f6d-4f28-a5d0-7c0516ed9f8e",
   "metadata": {},
   "outputs": [
    {
     "name": "stdout",
     "output_type": "stream",
     "text": [
      "label\n",
      "0    8000\n",
      "2    8000\n",
      "1    8000\n",
      "Name: count, dtype: int64\n"
     ]
    }
   ],
   "source": [
    "print(preprocessor.df_balanced['label'].value_counts())"
   ]
  },
  {
   "cell_type": "code",
   "execution_count": 6,
   "id": "bbc5d034-4402-4377-8495-e8cc59551c58",
   "metadata": {},
   "outputs": [
    {
     "name": "stdout",
     "output_type": "stream",
     "text": [
      "Label 0: 8017\n",
      "Label 2: 8032\n",
      "Label 1: 8044\n"
     ]
    }
   ],
   "source": [
    "from collections import Counter\n",
    "\n",
    "# Assuming self.segment_labels is a list of integer labels\n",
    "label_counts = Counter(preprocessor.segment_labels)\n",
    "\n",
    "# Print the count of each label\n",
    "for label, count in label_counts.items():\n",
    "    print(f\"Label {label}: {count}\")"
   ]
  },
  {
   "cell_type": "markdown",
   "id": "0f60d6a1-4d56-4380-8e59-127eed6ee57e",
   "metadata": {},
   "source": [
    "# Training of the BART Model"
   ]
  },
  {
   "cell_type": "code",
   "execution_count": 7,
   "id": "0d60ab15-2ffd-460b-8f4c-cd72850b65d7",
   "metadata": {},
   "outputs": [
    {
     "data": {
      "text/html": [
       "\n",
       "    <div>\n",
       "      \n",
       "      <progress value='1355' max='1355' style='width:300px; height:20px; vertical-align: middle;'></progress>\n",
       "      [1355/1355 12:28:02, Epoch 0/1]\n",
       "    </div>\n",
       "    <table border=\"1\" class=\"dataframe\">\n",
       "  <thead>\n",
       " <tr style=\"text-align: left;\">\n",
       "      <th>Step</th>\n",
       "      <th>Training Loss</th>\n",
       "      <th>Validation Loss</th>\n",
       "    </tr>\n",
       "  </thead>\n",
       "  <tbody>\n",
       "    <tr>\n",
       "      <td>500</td>\n",
       "      <td>0.699300</td>\n",
       "      <td>0.635621</td>\n",
       "    </tr>\n",
       "    <tr>\n",
       "      <td>1000</td>\n",
       "      <td>0.613000</td>\n",
       "      <td>0.564043</td>\n",
       "    </tr>\n",
       "  </tbody>\n",
       "</table><p>"
      ],
      "text/plain": [
       "<IPython.core.display.HTML object>"
      ]
     },
     "metadata": {},
     "output_type": "display_data"
    },
    {
     "name": "stdout",
     "output_type": "stream",
     "text": [
      "setting an array element with a sequence. The requested array has an inhomogeneous shape after 2 dimensions. The detected shape was (2, 2410) + inhomogeneous part.\n",
      "setting an array element with a sequence. The requested array has an inhomogeneous shape after 2 dimensions. The detected shape was (2, 2410) + inhomogeneous part.\n"
     ]
    },
    {
     "name": "stderr",
     "output_type": "stream",
     "text": [
      "There were missing keys in the checkpoint model loaded: ['model.encoder.embed_tokens.weight', 'model.decoder.embed_tokens.weight'].\n"
     ]
    }
   ],
   "source": [
    "modeller = Modelling(train_data, eval_data, BART_tokenizer, BART_model)\n",
    "modeller.train_model()"
   ]
  },
  {
   "cell_type": "code",
   "execution_count": 8,
   "id": "24117000-987e-4240-80f1-8a50b27b8cd9",
   "metadata": {},
   "outputs": [
    {
     "name": "stdout",
     "output_type": "stream",
     "text": [
      "Accuracy: 0.7535\n",
      "F1 Score: 0.7528\n",
      "Recall: 0.7535\n"
     ]
    },
    {
     "data": {
      "image/png": "[encoded data removed]",
      "text/plain": [
       "<Figure size 800x600 with 2 Axes>"
      ]
     },
     "metadata": {},
     "output_type": "display_data"
    }
   ],
   "source": [
    "# Show Model Accuracy\n",
    "modeller.calc_accuracy()"
   ]
  },
  {
   "cell_type": "markdown",
   "id": "fc14986d-096f-4968-bbba-544268c16842",
   "metadata": {
    "jp-MarkdownHeadingCollapsed": true
   },
   "source": [
    "# End of main"
   ]
  }
 ],
 "metadata": {
  "kernelspec": {
   "display_name": "Python 3 (ipykernel)",
   "language": "python",
   "name": "python3"
  },
  "language_info": {
   "codemirror_mode": {
    "name": "ipython",
    "version": 3
   },
   "file_extension": ".py",
   "mimetype": "text/x-python",
   "name": "python",
   "nbconvert_exporter": "python",
   "pygments_lexer": "ipython3",
   "version": "3.11.6"
  }
 },
 "nbformat": 4,
 "nbformat_minor": 5
}
