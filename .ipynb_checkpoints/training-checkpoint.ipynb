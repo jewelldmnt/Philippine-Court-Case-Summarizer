{
 "cells": [
  {
   "cell_type": "code",
   "execution_count": 1,
   "id": "6d5a9f36-c560-46d5-b0ce-832c4d92f7d2",
   "metadata": {},
   "outputs": [
    {
     "name": "stdout",
     "output_type": "stream",
     "text": [
      "WARNING:tensorflow:From C:\\Users\\mdfl0\\AppData\\Roaming\\Python\\Python311\\site-packages\\tf_keras\\src\\losses.py:2976: The name tf.losses.sparse_softmax_cross_entropy is deprecated. Please use tf.compat.v1.losses.sparse_softmax_cross_entropy instead.\n",
      "\n"
     ]
    }
   ],
   "source": [
    "from Custom_Modules.preprocessing import *\n",
    "from Custom_Modules.modelling import *\n",
    "from Custom_Modules.visualization import *\n",
    "from Custom_Modules.TrainingParagprahSegmentation import *"
   ]
  },
  {
   "cell_type": "code",
   "execution_count": null,
   "id": "c0afaee5-4c80-4324-8a75-ba4c7c4c4d0d",
   "metadata": {},
   "outputs": [],
   "source": []
  },
  {
   "cell_type": "markdown",
   "id": "6eca7d73-8377-4448-80c1-5109f1bfe1b9",
   "metadata": {},
   "source": [
    "# Paragraph Segmentation\n",
    "##### (Included pre-cleaning)"
   ]
  },
  {
   "cell_type": "code",
   "execution_count": 2,
   "id": "814c17b9-0274-4ea5-bfe1-7f20de1e9dcf",
   "metadata": {},
   "outputs": [],
   "source": [
    "segmentor = paragraph_segmentation('full_court_cases.csv')\n",
    "segmentor.output_segmented_csv()"
   ]
  },
  {
   "cell_type": "markdown",
   "id": "bda45468-2120-462a-b20d-c1008d6139c9",
   "metadata": {},
   "source": [
    "# Preprocessing"
   ]
  },
  {
   "cell_type": "code",
   "execution_count": 3,
   "id": "519b181c-dad5-4367-9dea-8701ba082e30",
   "metadata": {
    "scrolled": true
   },
   "outputs": [
    {
     "name": "stdout",
     "output_type": "stream",
     "text": [
      "Preprocessing Done!\n",
      "Model Configured!\n"
     ]
    },
    {
     "data": {
      "application/vnd.jupyter.widget-view+json": {
       "model_id": "d19306163d0941258d89590613e8e975",
       "version_major": 2,
       "version_minor": 0
      },
      "text/plain": [
       "Map:   0%|          | 0/13416 [00:00<?, ? examples/s]"
      ]
     },
     "metadata": {},
     "output_type": "display_data"
    },
    {
     "data": {
      "application/vnd.jupyter.widget-view+json": {
       "model_id": "68919ac260874753831ddd246c6debda",
       "version_major": 2,
       "version_minor": 0
      },
      "text/plain": [
       "Map:   0%|          | 0/1491 [00:00<?, ? examples/s]"
      ]
     },
     "metadata": {},
     "output_type": "display_data"
    }
   ],
   "source": [
    "# Prepare the data, model, and tokenizer before training\n",
    "preprocessor = preprocess('court_cases_headings_labels.csv')\n",
    "preprocessor.prepare_LED_data()"
   ]
  },
  {
   "cell_type": "code",
   "execution_count": 4,
   "id": "0b51f55b-2897-47cd-974d-8670c8b46b5a",
   "metadata": {},
   "outputs": [],
   "source": [
    "BART_model, BART_tokenizer, train_data, eval_data = preprocessor.return_model_tokenizer_data()"
   ]
  },
  {
   "cell_type": "code",
   "execution_count": 5,
   "id": "2a32e69a-4f6d-4f28-a5d0-7c0516ed9f8e",
   "metadata": {},
   "outputs": [
    {
     "name": "stdout",
     "output_type": "stream",
     "text": [
      "label\n",
      "1    4969\n",
      "2    4969\n",
      "0    4969\n",
      "Name: count, dtype: int64\n"
     ]
    }
   ],
   "source": [
    "print(preprocessor.df_balanced['label'].value_counts())"
   ]
  },
  {
   "cell_type": "markdown",
   "id": "0f60d6a1-4d56-4380-8e59-127eed6ee57e",
   "metadata": {},
   "source": [
    "# Modelling"
   ]
  },
  {
   "cell_type": "code",
   "execution_count": 10,
   "id": "0d60ab15-2ffd-460b-8f4c-cd72850b65d7",
   "metadata": {},
   "outputs": [
    {
     "data": {
      "text/html": [
       "\n",
       "    <div>\n",
       "      \n",
       "      <progress value='872' max='872' style='width:300px; height:20px; vertical-align: middle;'></progress>\n",
       "      [872/872 7:28:32, Epoch 1/1]\n",
       "    </div>\n",
       "    <table border=\"1\" class=\"dataframe\">\n",
       "  <thead>\n",
       " <tr style=\"text-align: left;\">\n",
       "      <th>Step</th>\n",
       "      <th>Training Loss</th>\n",
       "      <th>Validation Loss</th>\n",
       "    </tr>\n",
       "  </thead>\n",
       "  <tbody>\n",
       "    <tr>\n",
       "      <td>500</td>\n",
       "      <td>0.879000</td>\n",
       "      <td>0.933669</td>\n",
       "    </tr>\n",
       "  </tbody>\n",
       "</table><p>"
      ],
      "text/plain": [
       "<IPython.core.display.HTML object>"
      ]
     },
     "metadata": {},
     "output_type": "display_data"
    },
    {
     "name": "stdout",
     "output_type": "stream",
     "text": [
      "setting an array element with a sequence. The requested array has an inhomogeneous shape after 2 dimensions. The detected shape was (2, 1550) + inhomogeneous part.\n"
     ]
    },
    {
     "name": "stderr",
     "output_type": "stream",
     "text": [
      "There were missing keys in the checkpoint model loaded: ['model.encoder.embed_tokens.weight', 'model.decoder.embed_tokens.weight'].\n"
     ]
    }
   ],
   "source": [
    "modeller = Modelling(train_data, eval_data, BART_tokenizer, BART_model)\n",
    "modeller.train_model()"
   ]
  },
  {
   "cell_type": "code",
   "execution_count": 11,
   "id": "24117000-987e-4240-80f1-8a50b27b8cd9",
   "metadata": {},
   "outputs": [
    {
     "name": "stdout",
     "output_type": "stream",
     "text": [
      "Accuracy: 0.5697\n",
      "F1 Score: 0.5667\n",
      "Recall: 0.5697\n"
     ]
    },
    {
     "data": {
      "image/png": "[encoded data removed]",
      "text/plain": [
       "<Figure size 800x600 with 2 Axes>"
      ]
     },
     "metadata": {},
     "output_type": "display_data"
    }
   ],
   "source": [
    "modeller.calc_accuracy()"
   ]
  },
  {
   "cell_type": "markdown",
   "id": "fc14986d-096f-4968-bbba-544268c16842",
   "metadata": {
    "jp-MarkdownHeadingCollapsed": true
   },
   "source": [
    "# End of main"
   ]
  }
 ],
 "metadata": {
  "kernelspec": {
   "display_name": "Python 3 (ipykernel)",
   "language": "python",
   "name": "python3"
  },
  "language_info": {
   "codemirror_mode": {
    "name": "ipython",
    "version": 3
   },
   "file_extension": ".py",
   "mimetype": "text/x-python",
   "name": "python",
   "nbconvert_exporter": "python",
   "pygments_lexer": "ipython3",
   "version": "3.11.6"
  }
 },
 "nbformat": 4,
 "nbformat_minor": 5
}
